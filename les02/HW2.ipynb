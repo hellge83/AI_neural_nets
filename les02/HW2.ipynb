{
 "cells": [
  {
   "cell_type": "code",
   "execution_count": 1,
   "metadata": {},
   "outputs": [],
   "source": [
    "import numpy as np\n",
    "import pandas as pd\n",
    "#import mnist\n",
    "from keras.models import Sequential\n",
    "from keras.layers import Dense\n",
    "from keras.utils import to_categorical, plot_model\n",
    "from keras.datasets import fashion_mnist\n",
    "from keras.optimizers import RMSprop, SGD, Adam, Nadam\n",
    "\n",
    "import matplotlib.pyplot as plt"
   ]
  },
  {
   "cell_type": "code",
   "execution_count": 2,
   "metadata": {},
   "outputs": [],
   "source": [
    "(train_imagesi,train_labels), (test_imagesi,test_labels) = fashion_mnist.load_data()"
   ]
  },
  {
   "cell_type": "code",
   "execution_count": 3,
   "metadata": {},
   "outputs": [
    {
     "data": {
      "image/png": "[encoded data removed]",
      "text/plain": [
       "<Figure size 432x288 with 1 Axes>"
      ]
     },
     "metadata": {
      "needs_background": "light"
     },
     "output_type": "display_data"
    }
   ],
   "source": [
    "plt.imshow(test_imagesi[0,:,:])\n",
    "plt.show()"
   ]
  },
  {
   "cell_type": "code",
   "execution_count": 4,
   "metadata": {},
   "outputs": [],
   "source": [
    "# Normalize the images.\n",
    "train_images = (train_imagesi / 127) - 1\n",
    "test_images = (test_imagesi / 127) - 1\n",
    "\n",
    "# Flatten the images.\n",
    "train_images = train_images.reshape((-1, 784))\n",
    "test_images = test_images.reshape((-1, 784))"
   ]
  },
  {
   "cell_type": "code",
   "execution_count": 5,
   "metadata": {},
   "outputs": [
    {
     "data": {
      "text/plain": [
       "(60000, 784)"
      ]
     },
     "execution_count": 5,
     "metadata": {},
     "output_type": "execute_result"
    }
   ],
   "source": [
    "train_images.shape"
   ]
  },
  {
   "cell_type": "code",
   "execution_count": 6,
   "metadata": {},
   "outputs": [],
   "source": [
    "# Build the model.\n",
    "model = Sequential([\n",
    "  Dense(64, activation='tanh', input_shape=(784,)),\n",
    "#   Dense(64, activation='tanh'),\n",
    "  Dense(10, activation='softmax'),\n",
    "])\n",
    "\n",
    "# Compile the model.\n",
    "model.compile(\n",
    "  optimizer='adam',\n",
    "  loss='categorical_crossentropy',\n",
    "  metrics=['accuracy'],\n",
    ")"
   ]
  },
  {
   "cell_type": "code",
   "execution_count": 7,
   "metadata": {},
   "outputs": [],
   "source": [
    "model1 = Sequential(name = 'my_model')\n",
    "model1.add(Dense( 128, activation = 'relu', input_shape=(784,)))\n",
    "for k in range(1):\n",
    "    model1.add(Dense((10-k)*10, activation='relu', input_shape=(784,)))\n",
    "\n",
    "\n",
    "model1.add(Dense(10, activation='softmax'))"
   ]
  },
  {
   "cell_type": "code",
   "execution_count": 8,
   "metadata": {},
   "outputs": [
    {
     "name": "stdout",
     "output_type": "stream",
     "text": [
      "Model: \"sequential\"\n",
      "_________________________________________________________________\n",
      "Layer (type)                 Output Shape              Param #   \n",
      "=================================================================\n",
      "dense (Dense)                (None, 64)                50240     \n",
      "_________________________________________________________________\n",
      "dense_1 (Dense)              (None, 10)                650       \n",
      "=================================================================\n",
      "Total params: 50,890\n",
      "Trainable params: 50,890\n",
      "Non-trainable params: 0\n",
      "_________________________________________________________________\n"
     ]
    }
   ],
   "source": [
    "model.summary()"
   ]
  },
  {
   "cell_type": "code",
   "execution_count": 9,
   "metadata": {},
   "outputs": [
    {
     "data": {
      "image/png": "[encoded data removed]",
      "text/plain": [
       "<IPython.core.display.Image object>"
      ]
     },
     "execution_count": 9,
     "metadata": {},
     "output_type": "execute_result"
    }
   ],
   "source": [
    "plot_model(model, to_file='model.png')"
   ]
  },
  {
   "cell_type": "code",
   "execution_count": 10,
   "metadata": {},
   "outputs": [],
   "source": [
    "# model.get_config()"
   ]
  },
  {
   "cell_type": "code",
   "execution_count": 11,
   "metadata": {},
   "outputs": [],
   "source": [
    "y_tr = to_categorical(train_labels)\n",
    "y_tt = to_categorical(test_labels)"
   ]
  },
  {
   "cell_type": "code",
   "execution_count": 12,
   "metadata": {},
   "outputs": [
    {
     "data": {
      "text/plain": [
       "array([[0., 0., 0., 0., 0., 0., 0., 0., 0., 1.],\n",
       "       [1., 0., 0., 0., 0., 0., 0., 0., 0., 0.],\n",
       "       [1., 0., 0., 0., 0., 0., 0., 0., 0., 0.],\n",
       "       [0., 0., 0., 1., 0., 0., 0., 0., 0., 0.],\n",
       "       [1., 0., 0., 0., 0., 0., 0., 0., 0., 0.]], dtype=float32)"
      ]
     },
     "execution_count": 12,
     "metadata": {},
     "output_type": "execute_result"
    }
   ],
   "source": [
    "y_tr[:5,:]"
   ]
  },
  {
   "cell_type": "code",
   "execution_count": 13,
   "metadata": {},
   "outputs": [
    {
     "data": {
      "text/plain": [
       "array([9, 0, 0, 3, 0], dtype=uint8)"
      ]
     },
     "execution_count": 13,
     "metadata": {},
     "output_type": "execute_result"
    }
   ],
   "source": [
    "train_labels[:5]"
   ]
  },
  {
   "cell_type": "code",
   "execution_count": 14,
   "metadata": {},
   "outputs": [
    {
     "name": "stdout",
     "output_type": "stream",
     "text": [
      "Epoch 1/15\n",
      "1500/1500 [==============================] - 2s 977us/step - loss: 0.6292 - accuracy: 0.7760 - val_loss: 0.4327 - val_accuracy: 0.8495\n",
      "Epoch 2/15\n",
      "1500/1500 [==============================] - 1s 779us/step - loss: 0.4043 - accuracy: 0.8574 - val_loss: 0.3940 - val_accuracy: 0.8586\n",
      "Epoch 3/15\n",
      "1500/1500 [==============================] - 1s 784us/step - loss: 0.3658 - accuracy: 0.8698 - val_loss: 0.3898 - val_accuracy: 0.8597\n",
      "Epoch 4/15\n",
      "1500/1500 [==============================] - 1s 793us/step - loss: 0.3435 - accuracy: 0.8754 - val_loss: 0.3728 - val_accuracy: 0.8665\n",
      "Epoch 5/15\n",
      "1500/1500 [==============================] - 1s 798us/step - loss: 0.3317 - accuracy: 0.8805 - val_loss: 0.3714 - val_accuracy: 0.8647\n",
      "Epoch 6/15\n",
      "1500/1500 [==============================] - 1s 839us/step - loss: 0.3203 - accuracy: 0.8835 - val_loss: 0.3982 - val_accuracy: 0.8539\n",
      "Epoch 7/15\n",
      "1500/1500 [==============================] - 1s 829us/step - loss: 0.3091 - accuracy: 0.8887 - val_loss: 0.3564 - val_accuracy: 0.8719\n",
      "Epoch 8/15\n",
      "1500/1500 [==============================] - 1s 828us/step - loss: 0.2991 - accuracy: 0.8915 - val_loss: 0.3526 - val_accuracy: 0.8758\n",
      "Epoch 9/15\n",
      "1500/1500 [==============================] - 1s 824us/step - loss: 0.2840 - accuracy: 0.8966 - val_loss: 0.3623 - val_accuracy: 0.8710\n",
      "Epoch 10/15\n",
      "1500/1500 [==============================] - 1s 835us/step - loss: 0.2878 - accuracy: 0.8957 - val_loss: 0.3566 - val_accuracy: 0.8712\n",
      "Epoch 11/15\n",
      "1500/1500 [==============================] - 1s 849us/step - loss: 0.2744 - accuracy: 0.9010 - val_loss: 0.3529 - val_accuracy: 0.8752\n",
      "Epoch 12/15\n",
      "1500/1500 [==============================] - 1s 842us/step - loss: 0.2719 - accuracy: 0.9013 - val_loss: 0.3671 - val_accuracy: 0.8679\n",
      "Epoch 13/15\n",
      "1500/1500 [==============================] - 1s 868us/step - loss: 0.2697 - accuracy: 0.9019 - val_loss: 0.3554 - val_accuracy: 0.8770\n",
      "Epoch 14/15\n",
      "1500/1500 [==============================] - 1s 896us/step - loss: 0.2611 - accuracy: 0.9046 - val_loss: 0.3451 - val_accuracy: 0.8770\n",
      "Epoch 15/15\n",
      "1500/1500 [==============================] - 1s 870us/step - loss: 0.2572 - accuracy: 0.9058 - val_loss: 0.3669 - val_accuracy: 0.8734\n",
      "313/313 [==============================] - 0s 878us/step - loss: 0.3908 - accuracy: 0.8634\n",
      "[9 2 1 1 6]\n",
      "[9 2 1 1 6]\n"
     ]
    }
   ],
   "source": [
    "# Train the model.\n",
    "hh = model.fit(  \n",
    "  train_images[:, :],\n",
    "  y_tr[:, :],\n",
    "  epochs = 15,\n",
    "  batch_size = 32, validation_split = 0.2\n",
    ")\n",
    "\n",
    "# Evaluate the model.\n",
    "model.evaluate( \n",
    "  test_images,\n",
    "  y_tt\n",
    ")\n",
    "# [model.evaluate(train_images, y_tr, batch_size=32)[1], model.evaluate(test_images, y_tt, batch_size=32)[1]]\n",
    "\n",
    "# Predict on the first 5 test images.\n",
    "predictions = model.predict(test_images[:5])\n",
    "\n",
    "# Print our model's predictions.\n",
    "print(np.argmax(predictions, axis=1)) \n",
    "\n",
    "# Check our predictions against the ground truths.\n",
    "print(test_labels[:5])"
   ]
  },
  {
   "cell_type": "code",
   "execution_count": 15,
   "metadata": {},
   "outputs": [],
   "source": [
    "# [model.evaluate(train_images, y_tr, batch_size=32)[1], model.evaluate(test_images, y_tt, batch_size=32)[1]]"
   ]
  },
  {
   "cell_type": "code",
   "execution_count": 16,
   "metadata": {},
   "outputs": [],
   "source": [
    "# Save the model to disk.\n",
    "# model.save_weights('model.h5')\n",
    "\n",
    "# Load the model from disk later using:\n",
    "# model.load_weights('model.h5')"
   ]
  },
  {
   "cell_type": "code",
   "execution_count": 17,
   "metadata": {},
   "outputs": [
    {
     "data": {
      "image/png": "[encoded data removed]",
      "text/plain": [
       "<Figure size 720x360 with 1 Axes>"
      ]
     },
     "metadata": {
      "needs_background": "light"
     },
     "output_type": "display_data"
    }
   ],
   "source": [
    "plt.figure(figsize=(10, 5))\n",
    "plt.plot(hh.history['loss'], label = 'потери для тренировки')\n",
    "plt.plot(hh.history['val_loss'], label = 'потери для валидации')\n",
    "plt.xlabel('эпох')\n",
    "plt.ylabel('loss')\n",
    "plt.legend()\n",
    "plt.grid('On')\n",
    "plt.title('потери от эпох')\n",
    "plt.show()"
   ]
  },
  {
   "cell_type": "code",
   "execution_count": 18,
   "metadata": {},
   "outputs": [],
   "source": [
    "res = {}"
   ]
  },
  {
   "cell_type": "markdown",
   "metadata": {},
   "source": [
    "### число нейронов двухслойной сети"
   ]
  },
  {
   "cell_type": "code",
   "execution_count": 19,
   "metadata": {},
   "outputs": [],
   "source": [
    "def create_model(layers, neurons):\n",
    "    model = Sequential()\n",
    "    model.add(Dense(neurons, activation = 'relu', input_shape=(784,)))\n",
    "    for k in range(layers - 2):\n",
    "        model.add(Dense(neurons * (10-k) * 0.06, activation='relu', input_shape=(784,)))\n",
    "\n",
    "    model.add(Dense(10, activation='softmax'))\n",
    "\n",
    "    return model"
   ]
  },
  {
   "cell_type": "code",
   "execution_count": 20,
   "metadata": {},
   "outputs": [
    {
     "name": "stdout",
     "output_type": "stream",
     "text": [
      "Epoch 1/15\n",
      "1500/1500 [==============================] - 1s 818us/step - loss: 0.7426 - accuracy: 0.7325 - val_loss: 0.4813 - val_accuracy: 0.8271\n",
      "Epoch 2/15\n",
      "1500/1500 [==============================] - 1s 741us/step - loss: 0.4453 - accuracy: 0.8422 - val_loss: 0.4335 - val_accuracy: 0.8468\n",
      "Epoch 3/15\n",
      "1500/1500 [==============================] - 1s 745us/step - loss: 0.4114 - accuracy: 0.8529 - val_loss: 0.4081 - val_accuracy: 0.8533\n",
      "Epoch 4/15\n",
      "1500/1500 [==============================] - 1s 762us/step - loss: 0.3988 - accuracy: 0.8567 - val_loss: 0.4057 - val_accuracy: 0.8537\n",
      "Epoch 5/15\n",
      "1500/1500 [==============================] - 1s 744us/step - loss: 0.3793 - accuracy: 0.8643 - val_loss: 0.3983 - val_accuracy: 0.8584\n",
      "Epoch 6/15\n",
      "1500/1500 [==============================] - 1s 743us/step - loss: 0.3671 - accuracy: 0.8679 - val_loss: 0.3939 - val_accuracy: 0.8570\n",
      "Epoch 7/15\n",
      "1500/1500 [==============================] - 1s 744us/step - loss: 0.3635 - accuracy: 0.8683 - val_loss: 0.3847 - val_accuracy: 0.8646\n",
      "Epoch 8/15\n",
      "1500/1500 [==============================] - 1s 746us/step - loss: 0.3449 - accuracy: 0.8756 - val_loss: 0.3999 - val_accuracy: 0.8573\n",
      "Epoch 9/15\n",
      "1500/1500 [==============================] - 1s 751us/step - loss: 0.3458 - accuracy: 0.8739 - val_loss: 0.3938 - val_accuracy: 0.8570\n",
      "Epoch 10/15\n",
      "1500/1500 [==============================] - 1s 768us/step - loss: 0.3335 - accuracy: 0.8799 - val_loss: 0.4231 - val_accuracy: 0.8451\n",
      "Epoch 11/15\n",
      "1500/1500 [==============================] - 1s 746us/step - loss: 0.3323 - accuracy: 0.8800 - val_loss: 0.3793 - val_accuracy: 0.8640\n",
      "Epoch 12/15\n",
      "1500/1500 [==============================] - 1s 747us/step - loss: 0.3295 - accuracy: 0.8793 - val_loss: 0.4078 - val_accuracy: 0.8526\n",
      "Epoch 13/15\n",
      "1500/1500 [==============================] - 1s 763us/step - loss: 0.3256 - accuracy: 0.8823 - val_loss: 0.3780 - val_accuracy: 0.8652\n",
      "Epoch 14/15\n",
      "1500/1500 [==============================] - 1s 752us/step - loss: 0.3230 - accuracy: 0.8857 - val_loss: 0.3753 - val_accuracy: 0.8690\n",
      "Epoch 15/15\n",
      "1500/1500 [==============================] - 1s 742us/step - loss: 0.3143 - accuracy: 0.8851 - val_loss: 0.3996 - val_accuracy: 0.8618\n",
      "1875/1875 [==============================] - 1s 482us/step - loss: 0.3365 - accuracy: 0.8788\n",
      "313/313 [==============================] - 0s 844us/step - loss: 0.4433 - accuracy: 0.8502\n",
      "Epoch 1/15\n",
      "1500/1500 [==============================] - 2s 861us/step - loss: 0.6983 - accuracy: 0.7486 - val_loss: 0.4413 - val_accuracy: 0.8391\n",
      "Epoch 2/15\n",
      "1500/1500 [==============================] - 1s 784us/step - loss: 0.4133 - accuracy: 0.8510 - val_loss: 0.4071 - val_accuracy: 0.8555\n",
      "Epoch 3/15\n",
      "1500/1500 [==============================] - 1s 780us/step - loss: 0.3822 - accuracy: 0.8610 - val_loss: 0.4011 - val_accuracy: 0.8525\n",
      "Epoch 4/15\n",
      "1500/1500 [==============================] - 1s 779us/step - loss: 0.3605 - accuracy: 0.8687 - val_loss: 0.3738 - val_accuracy: 0.8652\n",
      "Epoch 5/15\n",
      "1500/1500 [==============================] - 1s 785us/step - loss: 0.3451 - accuracy: 0.8751 - val_loss: 0.3813 - val_accuracy: 0.8651\n",
      "Epoch 6/15\n",
      "1500/1500 [==============================] - 1s 784us/step - loss: 0.3260 - accuracy: 0.8816 - val_loss: 0.3890 - val_accuracy: 0.8617\n",
      "Epoch 7/15\n",
      "1500/1500 [==============================] - 1s 785us/step - loss: 0.3140 - accuracy: 0.8844 - val_loss: 0.3860 - val_accuracy: 0.8627\n",
      "Epoch 8/15\n",
      "1500/1500 [==============================] - 1s 773us/step - loss: 0.3112 - accuracy: 0.8871 - val_loss: 0.3650 - val_accuracy: 0.8717\n",
      "Epoch 9/15\n",
      "1500/1500 [==============================] - 1s 787us/step - loss: 0.2970 - accuracy: 0.8908 - val_loss: 0.3604 - val_accuracy: 0.8697\n",
      "Epoch 10/15\n",
      "1500/1500 [==============================] - 1s 790us/step - loss: 0.2939 - accuracy: 0.8926 - val_loss: 0.3758 - val_accuracy: 0.8695\n",
      "Epoch 11/15\n",
      "1500/1500 [==============================] - 1s 804us/step - loss: 0.2847 - accuracy: 0.8965 - val_loss: 0.3751 - val_accuracy: 0.8670\n",
      "Epoch 12/15\n",
      "1500/1500 [==============================] - 1s 798us/step - loss: 0.2826 - accuracy: 0.8954 - val_loss: 0.3831 - val_accuracy: 0.8662\n",
      "Epoch 13/15\n",
      "1500/1500 [==============================] - 1s 797us/step - loss: 0.2851 - accuracy: 0.8944 - val_loss: 0.3542 - val_accuracy: 0.8763\n",
      "Epoch 14/15\n",
      "1500/1500 [==============================] - 1s 790us/step - loss: 0.2709 - accuracy: 0.8992 - val_loss: 0.3573 - val_accuracy: 0.8757\n",
      "Epoch 15/15\n",
      "1500/1500 [==============================] - 1s 789us/step - loss: 0.2636 - accuracy: 0.9018 - val_loss: 0.3848 - val_accuracy: 0.8680\n",
      "1875/1875 [==============================] - 1s 474us/step - loss: 0.2960 - accuracy: 0.8929\n",
      "313/313 [==============================] - 0s 796us/step - loss: 0.4066 - accuracy: 0.8633\n",
      "Epoch 1/15\n",
      "1500/1500 [==============================] - 2s 933us/step - loss: 0.6268 - accuracy: 0.7721 - val_loss: 0.4418 - val_accuracy: 0.8395\n",
      "Epoch 2/15\n",
      "1500/1500 [==============================] - 1s 872us/step - loss: 0.3964 - accuracy: 0.8566 - val_loss: 0.3941 - val_accuracy: 0.8543\n",
      "Epoch 3/15\n",
      "1500/1500 [==============================] - 1s 868us/step - loss: 0.3584 - accuracy: 0.8693 - val_loss: 0.3634 - val_accuracy: 0.8657\n",
      "Epoch 4/15\n",
      "1500/1500 [==============================] - 1s 863us/step - loss: 0.3308 - accuracy: 0.8802 - val_loss: 0.3544 - val_accuracy: 0.8752\n",
      "Epoch 5/15\n",
      "1500/1500 [==============================] - 1s 881us/step - loss: 0.3085 - accuracy: 0.8856 - val_loss: 0.3502 - val_accuracy: 0.8731\n",
      "Epoch 6/15\n",
      "1500/1500 [==============================] - 1s 875us/step - loss: 0.2929 - accuracy: 0.8911 - val_loss: 0.3604 - val_accuracy: 0.8741\n",
      "Epoch 7/15\n",
      "1500/1500 [==============================] - 1s 880us/step - loss: 0.2852 - accuracy: 0.8937 - val_loss: 0.3661 - val_accuracy: 0.8683\n",
      "Epoch 8/15\n",
      "1500/1500 [==============================] - 1s 861us/step - loss: 0.2632 - accuracy: 0.9035 - val_loss: 0.3397 - val_accuracy: 0.8785\n",
      "Epoch 9/15\n",
      "1500/1500 [==============================] - 1s 853us/step - loss: 0.2666 - accuracy: 0.9006 - val_loss: 0.3691 - val_accuracy: 0.8712\n",
      "Epoch 10/15\n",
      "1500/1500 [==============================] - 1s 853us/step - loss: 0.2547 - accuracy: 0.9049 - val_loss: 0.3417 - val_accuracy: 0.8822\n",
      "Epoch 11/15\n",
      "1500/1500 [==============================] - 1s 859us/step - loss: 0.2458 - accuracy: 0.9073 - val_loss: 0.3285 - val_accuracy: 0.8849\n",
      "Epoch 12/15\n",
      "1500/1500 [==============================] - 1s 844us/step - loss: 0.2376 - accuracy: 0.9114 - val_loss: 0.3414 - val_accuracy: 0.8832\n",
      "Epoch 13/15\n",
      "1500/1500 [==============================] - 1s 865us/step - loss: 0.2377 - accuracy: 0.9111 - val_loss: 0.3397 - val_accuracy: 0.8811\n",
      "Epoch 14/15\n",
      "1500/1500 [==============================] - 1s 857us/step - loss: 0.2272 - accuracy: 0.9163 - val_loss: 0.3553 - val_accuracy: 0.8799\n",
      "Epoch 15/15\n",
      "1500/1500 [==============================] - 1s 856us/step - loss: 0.2214 - accuracy: 0.9164 - val_loss: 0.3494 - val_accuracy: 0.8809\n",
      "1875/1875 [==============================] - 1s 542us/step - loss: 0.2438 - accuracy: 0.9116\n",
      "313/313 [==============================] - 0s 873us/step - loss: 0.3835 - accuracy: 0.8754\n",
      "Epoch 1/15\n",
      "1500/1500 [==============================] - 2s 991us/step - loss: 0.6156 - accuracy: 0.7822 - val_loss: 0.4185 - val_accuracy: 0.8475\n",
      "Epoch 2/15\n",
      "1500/1500 [==============================] - 1s 918us/step - loss: 0.3921 - accuracy: 0.8575 - val_loss: 0.3915 - val_accuracy: 0.8565\n",
      "Epoch 3/15\n",
      "1500/1500 [==============================] - 1s 922us/step - loss: 0.3600 - accuracy: 0.8673 - val_loss: 0.3794 - val_accuracy: 0.8639\n",
      "Epoch 4/15\n",
      "1500/1500 [==============================] - 1s 941us/step - loss: 0.3174 - accuracy: 0.8837 - val_loss: 0.3526 - val_accuracy: 0.8709\n",
      "Epoch 5/15\n",
      "1500/1500 [==============================] - 1s 946us/step - loss: 0.2990 - accuracy: 0.8892 - val_loss: 0.3556 - val_accuracy: 0.8767\n",
      "Epoch 6/15\n",
      "1500/1500 [==============================] - 1s 928us/step - loss: 0.2866 - accuracy: 0.8936 - val_loss: 0.3526 - val_accuracy: 0.8742\n",
      "Epoch 7/15\n",
      "1500/1500 [==============================] - 1s 928us/step - loss: 0.2743 - accuracy: 0.8978 - val_loss: 0.3489 - val_accuracy: 0.8760\n",
      "Epoch 8/15\n"
     ]
    },
    {
     "name": "stdout",
     "output_type": "stream",
     "text": [
      "1500/1500 [==============================] - 1s 940us/step - loss: 0.2534 - accuracy: 0.9051 - val_loss: 0.3788 - val_accuracy: 0.8712\n",
      "Epoch 9/15\n",
      "1500/1500 [==============================] - 1s 914us/step - loss: 0.2558 - accuracy: 0.9026 - val_loss: 0.3582 - val_accuracy: 0.8778\n",
      "Epoch 10/15\n",
      "1500/1500 [==============================] - 1s 914us/step - loss: 0.2383 - accuracy: 0.9097 - val_loss: 0.3513 - val_accuracy: 0.8841\n",
      "Epoch 11/15\n",
      "1500/1500 [==============================] - 1s 920us/step - loss: 0.2258 - accuracy: 0.9165 - val_loss: 0.3431 - val_accuracy: 0.8817\n",
      "Epoch 12/15\n",
      "1500/1500 [==============================] - 1s 910us/step - loss: 0.2246 - accuracy: 0.9154 - val_loss: 0.3544 - val_accuracy: 0.8843\n",
      "Epoch 13/15\n",
      "1500/1500 [==============================] - 1s 917us/step - loss: 0.2170 - accuracy: 0.9186 - val_loss: 0.3636 - val_accuracy: 0.8792\n",
      "Epoch 14/15\n",
      "1500/1500 [==============================] - 1s 910us/step - loss: 0.2086 - accuracy: 0.9219 - val_loss: 0.3755 - val_accuracy: 0.8783\n",
      "Epoch 15/15\n",
      "1500/1500 [==============================] - 1s 909us/step - loss: 0.2026 - accuracy: 0.9243 - val_loss: 0.3511 - val_accuracy: 0.8838\n",
      "1875/1875 [==============================] - 1s 579us/step - loss: 0.2160 - accuracy: 0.9217\n",
      "313/313 [==============================] - 0s 880us/step - loss: 0.3785 - accuracy: 0.8791: 0s - loss: 0.3414 - accurac\n",
      "Epoch 1/15\n",
      "1500/1500 [==============================] - 2s 1ms/step - loss: 0.5961 - accuracy: 0.7831 - val_loss: 0.4109 - val_accuracy: 0.8549\n",
      "Epoch 2/15\n",
      "1500/1500 [==============================] - 2s 1ms/step - loss: 0.3915 - accuracy: 0.8553 - val_loss: 0.3682 - val_accuracy: 0.8664\n",
      "Epoch 3/15\n",
      "1500/1500 [==============================] - 2s 1ms/step - loss: 0.3489 - accuracy: 0.8701 - val_loss: 0.3637 - val_accuracy: 0.8698\n",
      "Epoch 4/15\n",
      "1500/1500 [==============================] - 2s 1ms/step - loss: 0.3157 - accuracy: 0.8824 - val_loss: 0.3596 - val_accuracy: 0.8710\n",
      "Epoch 5/15\n",
      "1500/1500 [==============================] - 2s 1ms/step - loss: 0.2940 - accuracy: 0.8907 - val_loss: 0.3611 - val_accuracy: 0.8678\n",
      "Epoch 6/15\n",
      "1500/1500 [==============================] - 2s 1ms/step - loss: 0.2850 - accuracy: 0.8959 - val_loss: 0.4003 - val_accuracy: 0.8618\n",
      "Epoch 7/15\n",
      "1500/1500 [==============================] - 2s 1ms/step - loss: 0.2681 - accuracy: 0.8987 - val_loss: 0.3637 - val_accuracy: 0.8694\n",
      "Epoch 8/15\n",
      "1500/1500 [==============================] - 2s 1ms/step - loss: 0.2515 - accuracy: 0.9081 - val_loss: 0.3400 - val_accuracy: 0.8820\n",
      "Epoch 9/15\n",
      "1500/1500 [==============================] - 2s 1ms/step - loss: 0.2386 - accuracy: 0.9126 - val_loss: 0.3527 - val_accuracy: 0.8810\n",
      "Epoch 10/15\n",
      "1500/1500 [==============================] - 2s 1ms/step - loss: 0.2368 - accuracy: 0.9122 - val_loss: 0.3432 - val_accuracy: 0.8855\n",
      "Epoch 11/15\n",
      "1500/1500 [==============================] - 2s 1ms/step - loss: 0.2171 - accuracy: 0.9166 - val_loss: 0.3475 - val_accuracy: 0.8855\n",
      "Epoch 12/15\n",
      "1500/1500 [==============================] - 2s 1ms/step - loss: 0.2110 - accuracy: 0.9206 - val_loss: 0.3408 - val_accuracy: 0.8867\n",
      "Epoch 13/15\n",
      "1500/1500 [==============================] - 2s 1ms/step - loss: 0.2026 - accuracy: 0.9246 - val_loss: 0.3517 - val_accuracy: 0.8854\n",
      "Epoch 14/15\n",
      "1500/1500 [==============================] - 2s 1ms/step - loss: 0.1928 - accuracy: 0.9280 - val_loss: 0.3771 - val_accuracy: 0.8776\n",
      "Epoch 15/15\n",
      "1500/1500 [==============================] - 2s 1ms/step - loss: 0.1937 - accuracy: 0.9275 - val_loss: 0.3781 - val_accuracy: 0.8813\n",
      "1875/1875 [==============================] - 1s 652us/step - loss: 0.2268 - accuracy: 0.9203\n",
      "313/313 [==============================] - 0s 1ms/step - loss: 0.4011 - accuracy: 0.8743\n",
      "Epoch 1/15\n",
      "1500/1500 [==============================] - 4s 2ms/step - loss: 0.5954 - accuracy: 0.7902 - val_loss: 0.4116 - val_accuracy: 0.8525\n",
      "Epoch 2/15\n",
      "1500/1500 [==============================] - 3s 2ms/step - loss: 0.3884 - accuracy: 0.8563 - val_loss: 0.3565 - val_accuracy: 0.8714\n",
      "Epoch 3/15\n",
      "1500/1500 [==============================] - 3s 2ms/step - loss: 0.3408 - accuracy: 0.8745 - val_loss: 0.3551 - val_accuracy: 0.8721\n",
      "Epoch 4/15\n",
      "1500/1500 [==============================] - 3s 2ms/step - loss: 0.3106 - accuracy: 0.8857 - val_loss: 0.3742 - val_accuracy: 0.8643\n",
      "Epoch 5/15\n",
      "1500/1500 [==============================] - 3s 2ms/step - loss: 0.2929 - accuracy: 0.8909 - val_loss: 0.3622 - val_accuracy: 0.8703\n",
      "Epoch 6/15\n",
      "1500/1500 [==============================] - 3s 2ms/step - loss: 0.2792 - accuracy: 0.8960 - val_loss: 0.3432 - val_accuracy: 0.8779\n",
      "Epoch 7/15\n",
      "1500/1500 [==============================] - 3s 2ms/step - loss: 0.2613 - accuracy: 0.9032 - val_loss: 0.3488 - val_accuracy: 0.8782\n",
      "Epoch 8/15\n",
      "1500/1500 [==============================] - 3s 2ms/step - loss: 0.2520 - accuracy: 0.9062 - val_loss: 0.3514 - val_accuracy: 0.8778\n",
      "Epoch 9/15\n",
      "1500/1500 [==============================] - 3s 2ms/step - loss: 0.2353 - accuracy: 0.9133 - val_loss: 0.3500 - val_accuracy: 0.8806\n",
      "Epoch 10/15\n",
      "1500/1500 [==============================] - 3s 2ms/step - loss: 0.2220 - accuracy: 0.9168 - val_loss: 0.3499 - val_accuracy: 0.8840\n",
      "Epoch 11/15\n",
      "1500/1500 [==============================] - 3s 2ms/step - loss: 0.2162 - accuracy: 0.9188 - val_loss: 0.3329 - val_accuracy: 0.8884\n",
      "Epoch 12/15\n",
      "1500/1500 [==============================] - 3s 2ms/step - loss: 0.2047 - accuracy: 0.9235 - val_loss: 0.3564 - val_accuracy: 0.8852\n",
      "Epoch 13/15\n",
      "1500/1500 [==============================] - 3s 2ms/step - loss: 0.1973 - accuracy: 0.9263 - val_loss: 0.3546 - val_accuracy: 0.8877\n",
      "Epoch 14/15\n",
      "1500/1500 [==============================] - 3s 2ms/step - loss: 0.1886 - accuracy: 0.9302 - val_loss: 0.3821 - val_accuracy: 0.8820\n",
      "Epoch 15/15\n",
      "1500/1500 [==============================] - 3s 2ms/step - loss: 0.1834 - accuracy: 0.9313 - val_loss: 0.3700 - val_accuracy: 0.8868\n",
      "1875/1875 [==============================] - 1s 775us/step - loss: 0.2115 - accuracy: 0.92630s - loss: 0.1867 - accuracy\n",
      "313/313 [==============================] - 0s 1ms/step - loss: 0.4055 - accuracy: 0.8821\n"
     ]
    }
   ],
   "source": [
    "for n_num in [16, 32, 64, 128, 256, 512]:\n",
    "    model = create_model(2, n_num)\n",
    "    model.compile(optimizer = 'adam', loss = 'categorical_crossentropy', metrics = ['accuracy'],)\n",
    "    \n",
    "    model.fit(train_images[:, :], y_tr[:, :], epochs = 15, batch_size = 32, validation_split = 0.2)\n",
    "    res['2_' + str(n_num) + '_adam'] = [model.count_params(), model.evaluate(train_images, y_tr, batch_size=32)[1], model.evaluate(test_images, y_tt, batch_size=32)[1]]\n"
   ]
  },
  {
   "cell_type": "code",
   "execution_count": 21,
   "metadata": {},
   "outputs": [
    {
     "data": {
      "text/html": [
       "<div>\n",
       "<style scoped>\n",
       "    .dataframe tbody tr th:only-of-type {\n",
       "        vertical-align: middle;\n",
       "    }\n",
       "\n",
       "    .dataframe tbody tr th {\n",
       "        vertical-align: top;\n",
       "    }\n",
       "\n",
       "    .dataframe thead th {\n",
       "        text-align: right;\n",
       "    }\n",
       "</style>\n",
       "<table border=\"1\" class=\"dataframe\">\n",
       "  <thead>\n",
       "    <tr style=\"text-align: right;\">\n",
       "      <th></th>\n",
       "      <th>params</th>\n",
       "      <th>acc_train</th>\n",
       "      <th>acc_test</th>\n",
       "    </tr>\n",
       "  </thead>\n",
       "  <tbody>\n",
       "    <tr>\n",
       "      <th>2_16_adam</th>\n",
       "      <td>12730</td>\n",
       "      <td>0.878750</td>\n",
       "      <td>0.8502</td>\n",
       "    </tr>\n",
       "    <tr>\n",
       "      <th>2_32_adam</th>\n",
       "      <td>25450</td>\n",
       "      <td>0.892917</td>\n",
       "      <td>0.8633</td>\n",
       "    </tr>\n",
       "    <tr>\n",
       "      <th>2_64_adam</th>\n",
       "      <td>50890</td>\n",
       "      <td>0.911617</td>\n",
       "      <td>0.8754</td>\n",
       "    </tr>\n",
       "    <tr>\n",
       "      <th>2_128_adam</th>\n",
       "      <td>101770</td>\n",
       "      <td>0.921717</td>\n",
       "      <td>0.8791</td>\n",
       "    </tr>\n",
       "    <tr>\n",
       "      <th>2_256_adam</th>\n",
       "      <td>203530</td>\n",
       "      <td>0.920300</td>\n",
       "      <td>0.8743</td>\n",
       "    </tr>\n",
       "    <tr>\n",
       "      <th>2_512_adam</th>\n",
       "      <td>407050</td>\n",
       "      <td>0.926300</td>\n",
       "      <td>0.8821</td>\n",
       "    </tr>\n",
       "  </tbody>\n",
       "</table>\n",
       "</div>"
      ],
      "text/plain": [
       "            params  acc_train  acc_test\n",
       "2_16_adam    12730   0.878750    0.8502\n",
       "2_32_adam    25450   0.892917    0.8633\n",
       "2_64_adam    50890   0.911617    0.8754\n",
       "2_128_adam  101770   0.921717    0.8791\n",
       "2_256_adam  203530   0.920300    0.8743\n",
       "2_512_adam  407050   0.926300    0.8821"
      ]
     },
     "execution_count": 21,
     "metadata": {},
     "output_type": "execute_result"
    }
   ],
   "source": [
    "pd.DataFrame.from_dict(res, orient='index', columns = ['params', 'acc_train', 'acc_test'])"
   ]
  },
  {
   "cell_type": "markdown",
   "metadata": {},
   "source": [
    "С увеличением количества нейронов точность на трейне и тесте растет, при этом кардинально растет количество тренируемых параметров. Однако, после 128 нейронов рост accuracy замедляется и увеличивается разрыв метрики между трейном и тестом"
   ]
  },
  {
   "cell_type": "markdown",
   "metadata": {},
   "source": [
    "### количество слоев"
   ]
  },
  {
   "cell_type": "code",
   "execution_count": 22,
   "metadata": {},
   "outputs": [
    {
     "name": "stdout",
     "output_type": "stream",
     "text": [
      "Epoch 1/15\n",
      "1500/1500 [==============================] - 2s 994us/step - loss: 0.6173 - accuracy: 0.7766 - val_loss: 0.4542 - val_accuracy: 0.8336\n",
      "Epoch 2/15\n",
      "1500/1500 [==============================] - 1s 912us/step - loss: 0.3957 - accuracy: 0.8545 - val_loss: 0.3945 - val_accuracy: 0.8554\n",
      "Epoch 3/15\n",
      "1500/1500 [==============================] - 1s 964us/step - loss: 0.3420 - accuracy: 0.8753 - val_loss: 0.3561 - val_accuracy: 0.8685\n",
      "Epoch 4/15\n",
      "1500/1500 [==============================] - 1s 927us/step - loss: 0.3281 - accuracy: 0.8791 - val_loss: 0.3582 - val_accuracy: 0.8699\n",
      "Epoch 5/15\n",
      "1500/1500 [==============================] - 1s 937us/step - loss: 0.3053 - accuracy: 0.8864 - val_loss: 0.3454 - val_accuracy: 0.8783\n",
      "Epoch 6/15\n",
      "1500/1500 [==============================] - 1s 938us/step - loss: 0.2847 - accuracy: 0.8949 - val_loss: 0.3466 - val_accuracy: 0.8767\n",
      "Epoch 7/15\n",
      "1500/1500 [==============================] - 1s 941us/step - loss: 0.2745 - accuracy: 0.8978 - val_loss: 0.3247 - val_accuracy: 0.8886\n",
      "Epoch 8/15\n",
      "1500/1500 [==============================] - 1s 973us/step - loss: 0.2570 - accuracy: 0.9038 - val_loss: 0.3370 - val_accuracy: 0.8800\n",
      "Epoch 9/15\n",
      "1500/1500 [==============================] - 1s 946us/step - loss: 0.2548 - accuracy: 0.9051 - val_loss: 0.3374 - val_accuracy: 0.8847\n",
      "Epoch 10/15\n",
      "1500/1500 [==============================] - 1s 929us/step - loss: 0.2386 - accuracy: 0.9113 - val_loss: 0.3464 - val_accuracy: 0.8813\n",
      "Epoch 11/15\n",
      "1500/1500 [==============================] - 1s 932us/step - loss: 0.2338 - accuracy: 0.9130 - val_loss: 0.3281 - val_accuracy: 0.8885\n",
      "Epoch 12/15\n",
      "1500/1500 [==============================] - 1s 933us/step - loss: 0.2247 - accuracy: 0.9158 - val_loss: 0.3661 - val_accuracy: 0.8767\n",
      "Epoch 13/15\n",
      "1500/1500 [==============================] - 1s 925us/step - loss: 0.2148 - accuracy: 0.9196 - val_loss: 0.3716 - val_accuracy: 0.8752\n",
      "Epoch 14/15\n",
      "1500/1500 [==============================] - 1s 929us/step - loss: 0.2036 - accuracy: 0.9230 - val_loss: 0.3569 - val_accuracy: 0.8792\n",
      "Epoch 15/15\n",
      "1500/1500 [==============================] - 1s 922us/step - loss: 0.2005 - accuracy: 0.9247 - val_loss: 0.3508 - val_accuracy: 0.8808\n",
      "1875/1875 [==============================] - 1s 577us/step - loss: 0.2226 - accuracy: 0.9198\n",
      "313/313 [==============================] - 1s 1ms/step - loss: 0.3744 - accuracy: 0.8809\n",
      "Epoch 1/15\n",
      "1500/1500 [==============================] - 2s 1ms/step - loss: 0.6364 - accuracy: 0.7710 - val_loss: 0.4201 - val_accuracy: 0.8489\n",
      "Epoch 2/15\n",
      "1500/1500 [==============================] - 2s 1ms/step - loss: 0.3855 - accuracy: 0.8571 - val_loss: 0.3729 - val_accuracy: 0.8663\n",
      "Epoch 3/15\n",
      "1500/1500 [==============================] - 2s 1ms/step - loss: 0.3422 - accuracy: 0.8735 - val_loss: 0.3502 - val_accuracy: 0.8732\n",
      "Epoch 4/15\n",
      "1500/1500 [==============================] - 2s 1ms/step - loss: 0.3205 - accuracy: 0.8802 - val_loss: 0.3472 - val_accuracy: 0.8717\n",
      "Epoch 5/15\n",
      "1500/1500 [==============================] - 2s 1ms/step - loss: 0.2967 - accuracy: 0.8886 - val_loss: 0.3383 - val_accuracy: 0.8768\n",
      "Epoch 6/15\n",
      "1500/1500 [==============================] - 2s 1ms/step - loss: 0.2798 - accuracy: 0.8946 - val_loss: 0.4022 - val_accuracy: 0.8610\n",
      "Epoch 7/15\n",
      "1500/1500 [==============================] - 2s 1ms/step - loss: 0.2690 - accuracy: 0.8996 - val_loss: 0.3524 - val_accuracy: 0.8780\n",
      "Epoch 8/15\n",
      "1500/1500 [==============================] - 2s 1ms/step - loss: 0.2556 - accuracy: 0.9036 - val_loss: 0.3303 - val_accuracy: 0.8817\n",
      "Epoch 9/15\n",
      "1500/1500 [==============================] - 2s 1ms/step - loss: 0.2455 - accuracy: 0.9078 - val_loss: 0.3263 - val_accuracy: 0.8874\n",
      "Epoch 10/15\n",
      "1500/1500 [==============================] - 2s 1ms/step - loss: 0.2340 - accuracy: 0.9129 - val_loss: 0.3603 - val_accuracy: 0.8739\n",
      "Epoch 11/15\n",
      "1500/1500 [==============================] - 2s 1ms/step - loss: 0.2223 - accuracy: 0.9170 - val_loss: 0.3709 - val_accuracy: 0.8733\n",
      "Epoch 12/15\n",
      "1500/1500 [==============================] - 2s 1ms/step - loss: 0.2198 - accuracy: 0.9177 - val_loss: 0.3544 - val_accuracy: 0.8802\n",
      "Epoch 13/15\n",
      "1500/1500 [==============================] - 2s 1ms/step - loss: 0.2107 - accuracy: 0.9207 - val_loss: 0.3395 - val_accuracy: 0.8861\n",
      "Epoch 14/15\n",
      "1500/1500 [==============================] - 2s 1ms/step - loss: 0.1991 - accuracy: 0.9262 - val_loss: 0.3592 - val_accuracy: 0.8771\n",
      "Epoch 15/15\n",
      "1500/1500 [==============================] - 2s 1ms/step - loss: 0.1915 - accuracy: 0.9286 - val_loss: 0.3670 - val_accuracy: 0.8848\n",
      "1875/1875 [==============================] - 1s 651us/step - loss: 0.2271 - accuracy: 0.9196\n",
      "313/313 [==============================] - 0s 902us/step - loss: 0.3923 - accuracy: 0.8734\n",
      "Epoch 1/15\n",
      "1500/1500 [==============================] - 2s 1ms/step - loss: 0.6662 - accuracy: 0.7594 - val_loss: 0.4064 - val_accuracy: 0.8518\n",
      "Epoch 2/15\n",
      "1500/1500 [==============================] - 2s 1ms/step - loss: 0.4010 - accuracy: 0.8519 - val_loss: 0.3857 - val_accuracy: 0.8637\n",
      "Epoch 3/15\n",
      "1500/1500 [==============================] - 2s 1ms/step - loss: 0.3575 - accuracy: 0.8676 - val_loss: 0.3657 - val_accuracy: 0.8702\n",
      "Epoch 4/15\n",
      "1500/1500 [==============================] - 2s 1ms/step - loss: 0.3350 - accuracy: 0.8746 - val_loss: 0.3574 - val_accuracy: 0.8713\n",
      "Epoch 5/15\n",
      "1500/1500 [==============================] - 2s 1ms/step - loss: 0.3094 - accuracy: 0.8851 - val_loss: 0.3314 - val_accuracy: 0.8800\n",
      "Epoch 6/15\n",
      "1500/1500 [==============================] - 2s 1ms/step - loss: 0.2966 - accuracy: 0.8906 - val_loss: 0.3516 - val_accuracy: 0.8735\n",
      "Epoch 7/15\n",
      "1500/1500 [==============================] - 2s 1ms/step - loss: 0.2866 - accuracy: 0.8955 - val_loss: 0.3814 - val_accuracy: 0.8641\n",
      "Epoch 8/15\n",
      "1500/1500 [==============================] - 2s 1ms/step - loss: 0.2632 - accuracy: 0.9021 - val_loss: 0.3406 - val_accuracy: 0.8799\n",
      "Epoch 9/15\n",
      "1500/1500 [==============================] - 2s 1ms/step - loss: 0.2587 - accuracy: 0.9046 - val_loss: 0.3361 - val_accuracy: 0.8832\n",
      "Epoch 10/15\n",
      "1500/1500 [==============================] - 2s 1ms/step - loss: 0.2508 - accuracy: 0.9075 - val_loss: 0.3354 - val_accuracy: 0.8828\n",
      "Epoch 11/15\n",
      "1500/1500 [==============================] - 2s 1ms/step - loss: 0.2416 - accuracy: 0.9083 - val_loss: 0.3402 - val_accuracy: 0.8773\n",
      "Epoch 12/15\n",
      "1500/1500 [==============================] - 2s 1ms/step - loss: 0.2304 - accuracy: 0.9126 - val_loss: 0.3343 - val_accuracy: 0.8851\n",
      "Epoch 13/15\n",
      "1500/1500 [==============================] - 2s 1ms/step - loss: 0.2249 - accuracy: 0.9158 - val_loss: 0.3499 - val_accuracy: 0.8813\n",
      "Epoch 14/15\n",
      "1500/1500 [==============================] - 2s 1ms/step - loss: 0.2195 - accuracy: 0.9171 - val_loss: 0.3782 - val_accuracy: 0.8763\n",
      "Epoch 15/15\n",
      "1500/1500 [==============================] - 2s 1ms/step - loss: 0.2143 - accuracy: 0.9203 - val_loss: 0.3634 - val_accuracy: 0.8872\n",
      "1875/1875 [==============================] - 1s 649us/step - loss: 0.2361 - accuracy: 0.9170\n",
      "313/313 [==============================] - 0s 1ms/step - loss: 0.3883 - accuracy: 0.8831\n",
      "Epoch 1/15\n",
      "1500/1500 [==============================] - 3s 1ms/step - loss: 0.8750 - accuracy: 0.6762 - val_loss: 0.4352 - val_accuracy: 0.8440\n",
      "Epoch 2/15\n",
      "1500/1500 [==============================] - 2s 1ms/step - loss: 0.4370 - accuracy: 0.8404 - val_loss: 0.4265 - val_accuracy: 0.8442\n",
      "Epoch 3/15\n",
      "1500/1500 [==============================] - 2s 1ms/step - loss: 0.3886 - accuracy: 0.8552 - val_loss: 0.3808 - val_accuracy: 0.8646\n",
      "Epoch 4/15\n",
      "1500/1500 [==============================] - 2s 1ms/step - loss: 0.3581 - accuracy: 0.8741 - val_loss: 0.3870 - val_accuracy: 0.8603\n",
      "Epoch 5/15\n",
      "1500/1500 [==============================] - 2s 1ms/step - loss: 0.3330 - accuracy: 0.8784 - val_loss: 0.3717 - val_accuracy: 0.8683\n",
      "Epoch 6/15\n",
      "1500/1500 [==============================] - 2s 1ms/step - loss: 0.3185 - accuracy: 0.8844 - val_loss: 0.3538 - val_accuracy: 0.8726\n",
      "Epoch 7/15\n",
      "1500/1500 [==============================] - 2s 1ms/step - loss: 0.3045 - accuracy: 0.8889 - val_loss: 0.3419 - val_accuracy: 0.8777\n",
      "Epoch 8/15\n",
      "1500/1500 [==============================] - 2s 1ms/step - loss: 0.2957 - accuracy: 0.8924 - val_loss: 0.3896 - val_accuracy: 0.8668\n"
     ]
    },
    {
     "name": "stdout",
     "output_type": "stream",
     "text": [
      "Epoch 9/15\n",
      "1500/1500 [==============================] - 2s 1ms/step - loss: 0.2863 - accuracy: 0.8956 - val_loss: 0.3624 - val_accuracy: 0.8752\n",
      "Epoch 10/15\n",
      "1500/1500 [==============================] - 2s 1ms/step - loss: 0.2782 - accuracy: 0.8989 - val_loss: 0.3732 - val_accuracy: 0.8752\n",
      "Epoch 11/15\n",
      "1500/1500 [==============================] - 2s 1ms/step - loss: 0.2684 - accuracy: 0.9025 - val_loss: 0.3717 - val_accuracy: 0.8701\n",
      "Epoch 12/15\n",
      "1500/1500 [==============================] - 2s 1ms/step - loss: 0.2619 - accuracy: 0.9044 - val_loss: 0.3373 - val_accuracy: 0.8809\n",
      "Epoch 13/15\n",
      "1500/1500 [==============================] - 2s 1ms/step - loss: 0.2554 - accuracy: 0.9080 - val_loss: 0.3498 - val_accuracy: 0.8751\n",
      "Epoch 14/15\n",
      "1500/1500 [==============================] - 2s 2ms/step - loss: 0.2438 - accuracy: 0.9095 - val_loss: 0.3685 - val_accuracy: 0.8737\n",
      "Epoch 15/15\n",
      "1500/1500 [==============================] - 2s 1ms/step - loss: 0.2440 - accuracy: 0.9111 - val_loss: 0.3596 - val_accuracy: 0.8794\n",
      "1875/1875 [==============================] - 1s 683us/step - loss: 0.2610 - accuracy: 0.9061\n",
      "313/313 [==============================] - 0s 1ms/step - loss: 0.3930 - accuracy: 0.8713\n"
     ]
    }
   ],
   "source": [
    "for l in [2, 3, 5, 10]:\n",
    "    model = create_model(l, 128)\n",
    "    model.compile(optimizer = 'adam', loss = 'categorical_crossentropy', metrics = ['accuracy'],)\n",
    "    \n",
    "    model.fit(train_images[:, :], y_tr[:, :], epochs = 15, batch_size = 32, validation_split = 0.2)\n",
    "    res[str(l) + '_128' + '_adam'] = [model.count_params(), model.evaluate(train_images, y_tr, batch_size=32)[1], model.evaluate(test_images, y_tt, batch_size=32)[1]]\n"
   ]
  },
  {
   "cell_type": "code",
   "execution_count": 23,
   "metadata": {},
   "outputs": [
    {
     "data": {
      "text/html": [
       "<div>\n",
       "<style scoped>\n",
       "    .dataframe tbody tr th:only-of-type {\n",
       "        vertical-align: middle;\n",
       "    }\n",
       "\n",
       "    .dataframe tbody tr th {\n",
       "        vertical-align: top;\n",
       "    }\n",
       "\n",
       "    .dataframe thead th {\n",
       "        text-align: right;\n",
       "    }\n",
       "</style>\n",
       "<table border=\"1\" class=\"dataframe\">\n",
       "  <thead>\n",
       "    <tr style=\"text-align: right;\">\n",
       "      <th></th>\n",
       "      <th>params</th>\n",
       "      <th>train</th>\n",
       "      <th>test</th>\n",
       "    </tr>\n",
       "  </thead>\n",
       "  <tbody>\n",
       "    <tr>\n",
       "      <th>2_16_adam</th>\n",
       "      <td>12730</td>\n",
       "      <td>0.878750</td>\n",
       "      <td>0.8502</td>\n",
       "    </tr>\n",
       "    <tr>\n",
       "      <th>2_32_adam</th>\n",
       "      <td>25450</td>\n",
       "      <td>0.892917</td>\n",
       "      <td>0.8633</td>\n",
       "    </tr>\n",
       "    <tr>\n",
       "      <th>2_64_adam</th>\n",
       "      <td>50890</td>\n",
       "      <td>0.911617</td>\n",
       "      <td>0.8754</td>\n",
       "    </tr>\n",
       "    <tr>\n",
       "      <th>2_128_adam</th>\n",
       "      <td>101770</td>\n",
       "      <td>0.919800</td>\n",
       "      <td>0.8809</td>\n",
       "    </tr>\n",
       "    <tr>\n",
       "      <th>2_256_adam</th>\n",
       "      <td>203530</td>\n",
       "      <td>0.920300</td>\n",
       "      <td>0.8743</td>\n",
       "    </tr>\n",
       "    <tr>\n",
       "      <th>2_512_adam</th>\n",
       "      <td>407050</td>\n",
       "      <td>0.926300</td>\n",
       "      <td>0.8821</td>\n",
       "    </tr>\n",
       "    <tr>\n",
       "      <th>3_128_adam</th>\n",
       "      <td>111054</td>\n",
       "      <td>0.919600</td>\n",
       "      <td>0.8734</td>\n",
       "    </tr>\n",
       "    <tr>\n",
       "      <th>5_128_adam</th>\n",
       "      <td>120487</td>\n",
       "      <td>0.917017</td>\n",
       "      <td>0.8831</td>\n",
       "    </tr>\n",
       "    <tr>\n",
       "      <th>10_128_adam</th>\n",
       "      <td>129546</td>\n",
       "      <td>0.906100</td>\n",
       "      <td>0.8713</td>\n",
       "    </tr>\n",
       "  </tbody>\n",
       "</table>\n",
       "</div>"
      ],
      "text/plain": [
       "             params     train    test\n",
       "2_16_adam     12730  0.878750  0.8502\n",
       "2_32_adam     25450  0.892917  0.8633\n",
       "2_64_adam     50890  0.911617  0.8754\n",
       "2_128_adam   101770  0.919800  0.8809\n",
       "2_256_adam   203530  0.920300  0.8743\n",
       "2_512_adam   407050  0.926300  0.8821\n",
       "3_128_adam   111054  0.919600  0.8734\n",
       "5_128_adam   120487  0.917017  0.8831\n",
       "10_128_adam  129546  0.906100  0.8713"
      ]
     },
     "execution_count": 23,
     "metadata": {},
     "output_type": "execute_result"
    }
   ],
   "source": [
    "pd.DataFrame.from_dict(res, orient='index', columns = ['params', 'train', 'test'])"
   ]
  },
  {
   "cell_type": "markdown",
   "metadata": {},
   "source": [
    "При зафиксированном количестве нейронов первого слоя увеличение глубины сети приводит к нестабильному поведению метрики на трейне, при добавлении пятого слоя мы чуть увеличили accuracy на тесте и снизили переобучение. При дальнейшем увеличении глубины падает качество как на трейне, так и на тесте, причем разрыв метрики увеличивается"
   ]
  },
  {
   "cell_type": "markdown",
   "metadata": {},
   "source": [
    "### функции оптимизации"
   ]
  },
  {
   "cell_type": "code",
   "execution_count": 24,
   "metadata": {},
   "outputs": [],
   "source": [
    "model = create_model(5, 128)\n",
    "model.save_weights('model.h5')"
   ]
  },
  {
   "cell_type": "code",
   "execution_count": 25,
   "metadata": {},
   "outputs": [
    {
     "data": {
      "text/plain": [
       "<Figure size 1440x720 with 0 Axes>"
      ]
     },
     "metadata": {},
     "output_type": "display_data"
    }
   ],
   "source": [
    "plt.figure(figsize=(20, 10))\n",
    "\n",
    "# число рабочих эпох\n",
    "epochs = 15\n",
    "# вектор для выводв результатов\n",
    "epoch = np.arange(epochs+1)"
   ]
  },
  {
   "cell_type": "code",
   "execution_count": 26,
   "metadata": {},
   "outputs": [
    {
     "name": "stdout",
     "output_type": "stream",
     "text": [
      "1875/1875 [==============================] - 1s 615us/step - loss: 0.5009 - accuracy: 0.8775\n",
      "313/313 [==============================] - 0s 979us/step - loss: 0.7566 - accuracy: 0.8543\n",
      "1875/1875 [==============================] - 1s 618us/step - loss: 0.2546 - accuracy: 0.9068\n",
      "313/313 [==============================] - 0s 984us/step - loss: 0.3582 - accuracy: 0.8735\n",
      "1875/1875 [==============================] - 1s 663us/step - loss: 0.2548 - accuracy: 0.9087\n",
      "313/313 [==============================] - 0s 969us/step - loss: 0.4023 - accuracy: 0.8680\n",
      "1875/1875 [==============================] - 1s 645us/step - loss: 0.2152 - accuracy: 0.9225\n",
      "313/313 [==============================] - 0s 951us/step - loss: 0.3685 - accuracy: 0.8790\n"
     ]
    },
    {
     "data": {
      "image/png": "[encoded data removed]",
      "text/plain": [
       "<Figure size 432x288 with 1 Axes>"
      ]
     },
     "metadata": {
      "needs_background": "light"
     },
     "output_type": "display_data"
    }
   ],
   "source": [
    "# будем изменять оптимизаторы\n",
    "for i_optim in [RMSprop(), SGD(), Adam(), Nadam()]:\n",
    "    # создаем рабочую модель modeli куда будем загружать эти вес (она должна быть идентичной структуры)\n",
    "    modeli = create_model(5, 128)\n",
    "    \n",
    "    # загружаем веса modeli.load_weights('model.h5')\n",
    "    modeli.load_weights('model.h5')\n",
    "    \n",
    "    # компилируем modeli с одним из оптимизаторов\n",
    "    modeli.compile(optimizer=i_optim, loss='categorical_crossentropy', metrics=['accuracy'],)\n",
    "    \n",
    "    # вычисляем ошибку для modeli без обучения  \n",
    "    # (т.к. все модели начинают с одной точки, то все ошибки должны быть одинаковые, \n",
    "    # но будем контролировать это и считаем каждый раз заново)\n",
    "    hh0_tr = modeli.evaluate(train_images[:48000,:], to_categorical(train_labels[:48000]),verbose = 0)\n",
    "    hh0_val = modeli.evaluate(train_images[48000:,:], to_categorical(train_labels[48000:]),verbose = 0)\n",
    "    \n",
    "    # проводим обучение модели \n",
    "    hh = modeli.fit(train_images, to_categorical(train_labels), epochs=epochs, batch_size=32, validation_split=0.2, verbose = 0)\n",
    "    \n",
    "    res['5' + '_128_' + str(modeli.optimizer.get_config()['name'])] = [modeli.count_params(), modeli.evaluate(train_images, y_tr, batch_size=32)[1], modeli.evaluate(test_images, y_tt, batch_size=32)[1]]\n",
    "\n",
    "    # картинки\n",
    "    plt.plot(epoch, np.log([hh0_tr[0]] + hh.history['loss']), '-', label = modeli.optimizer.get_config()['name'] + ' train')\n",
    "    plt.plot(epoch, np.log([hh0_val[0]] + hh.history['val_loss']), '--', label = modeli.optimizer.get_config()['name'] + ' val')\n",
    "\n",
    "plt.legend()\n",
    "plt.grid('On')\n",
    "\n",
    "plt.title('нейросети от оптимизатора log(loss)')\n",
    "plt.xlabel('epoch')\n",
    "plt.ylabel('log(loss)')\n",
    "plt.show()\n"
   ]
  },
  {
   "cell_type": "code",
   "execution_count": 27,
   "metadata": {},
   "outputs": [
    {
     "data": {
      "text/html": [
       "<div>\n",
       "<style scoped>\n",
       "    .dataframe tbody tr th:only-of-type {\n",
       "        vertical-align: middle;\n",
       "    }\n",
       "\n",
       "    .dataframe tbody tr th {\n",
       "        vertical-align: top;\n",
       "    }\n",
       "\n",
       "    .dataframe thead th {\n",
       "        text-align: right;\n",
       "    }\n",
       "</style>\n",
       "<table border=\"1\" class=\"dataframe\">\n",
       "  <thead>\n",
       "    <tr style=\"text-align: right;\">\n",
       "      <th></th>\n",
       "      <th>params</th>\n",
       "      <th>train</th>\n",
       "      <th>test</th>\n",
       "    </tr>\n",
       "  </thead>\n",
       "  <tbody>\n",
       "    <tr>\n",
       "      <th>2_16_adam</th>\n",
       "      <td>12730</td>\n",
       "      <td>0.878750</td>\n",
       "      <td>0.8502</td>\n",
       "    </tr>\n",
       "    <tr>\n",
       "      <th>2_32_adam</th>\n",
       "      <td>25450</td>\n",
       "      <td>0.892917</td>\n",
       "      <td>0.8633</td>\n",
       "    </tr>\n",
       "    <tr>\n",
       "      <th>2_64_adam</th>\n",
       "      <td>50890</td>\n",
       "      <td>0.911617</td>\n",
       "      <td>0.8754</td>\n",
       "    </tr>\n",
       "    <tr>\n",
       "      <th>2_128_adam</th>\n",
       "      <td>101770</td>\n",
       "      <td>0.919800</td>\n",
       "      <td>0.8809</td>\n",
       "    </tr>\n",
       "    <tr>\n",
       "      <th>2_256_adam</th>\n",
       "      <td>203530</td>\n",
       "      <td>0.920300</td>\n",
       "      <td>0.8743</td>\n",
       "    </tr>\n",
       "    <tr>\n",
       "      <th>2_512_adam</th>\n",
       "      <td>407050</td>\n",
       "      <td>0.926300</td>\n",
       "      <td>0.8821</td>\n",
       "    </tr>\n",
       "    <tr>\n",
       "      <th>3_128_adam</th>\n",
       "      <td>111054</td>\n",
       "      <td>0.919600</td>\n",
       "      <td>0.8734</td>\n",
       "    </tr>\n",
       "    <tr>\n",
       "      <th>5_128_adam</th>\n",
       "      <td>120487</td>\n",
       "      <td>0.917017</td>\n",
       "      <td>0.8831</td>\n",
       "    </tr>\n",
       "    <tr>\n",
       "      <th>10_128_adam</th>\n",
       "      <td>129546</td>\n",
       "      <td>0.906100</td>\n",
       "      <td>0.8713</td>\n",
       "    </tr>\n",
       "    <tr>\n",
       "      <th>5_128_RMSprop</th>\n",
       "      <td>120487</td>\n",
       "      <td>0.877483</td>\n",
       "      <td>0.8543</td>\n",
       "    </tr>\n",
       "    <tr>\n",
       "      <th>5_128_SGD</th>\n",
       "      <td>120487</td>\n",
       "      <td>0.906800</td>\n",
       "      <td>0.8735</td>\n",
       "    </tr>\n",
       "    <tr>\n",
       "      <th>5_128_Adam</th>\n",
       "      <td>120487</td>\n",
       "      <td>0.908717</td>\n",
       "      <td>0.8680</td>\n",
       "    </tr>\n",
       "    <tr>\n",
       "      <th>5_128_Nadam</th>\n",
       "      <td>120487</td>\n",
       "      <td>0.922517</td>\n",
       "      <td>0.8790</td>\n",
       "    </tr>\n",
       "  </tbody>\n",
       "</table>\n",
       "</div>"
      ],
      "text/plain": [
       "               params     train    test\n",
       "2_16_adam       12730  0.878750  0.8502\n",
       "2_32_adam       25450  0.892917  0.8633\n",
       "2_64_adam       50890  0.911617  0.8754\n",
       "2_128_adam     101770  0.919800  0.8809\n",
       "2_256_adam     203530  0.920300  0.8743\n",
       "2_512_adam     407050  0.926300  0.8821\n",
       "3_128_adam     111054  0.919600  0.8734\n",
       "5_128_adam     120487  0.917017  0.8831\n",
       "10_128_adam    129546  0.906100  0.8713\n",
       "5_128_RMSprop  120487  0.877483  0.8543\n",
       "5_128_SGD      120487  0.906800  0.8735\n",
       "5_128_Adam     120487  0.908717  0.8680\n",
       "5_128_Nadam    120487  0.922517  0.8790"
      ]
     },
     "execution_count": 27,
     "metadata": {},
     "output_type": "execute_result"
    }
   ],
   "source": [
    "pd.DataFrame.from_dict(res, orient='index', columns = ['params', 'train', 'test'])"
   ]
  },
  {
   "cell_type": "markdown",
   "metadata": {},
   "source": [
    "Лучшие результаты получены алгоритмами Adaptive Moment Estimation и Nesterov-accelerated Adaptive Moment Estimation - при пересоздании модели в зависимости от начальных весов к максимальному результату приводит либо первый, либо второй"
   ]
  },
  {
   "cell_type": "markdown",
   "metadata": {},
   "source": [
    "### multilabel_confusion_matrix"
   ]
  },
  {
   "cell_type": "code",
   "execution_count": 28,
   "metadata": {},
   "outputs": [],
   "source": [
    "from sklearn.metrics import multilabel_confusion_matrix\n",
    "from sklearn.metrics import f1_score, precision_score, recall_score\n",
    "from sklearn.metrics import precision_recall_fscore_support as score"
   ]
  },
  {
   "cell_type": "code",
   "execution_count": 29,
   "metadata": {},
   "outputs": [],
   "source": [
    "def evaluate_results(y_test, y_predict):\n",
    "    f1 = f1_score(y_test, y_predict)\n",
    "    rec = recall_score(y_test, y_predict, average='binary')\n",
    "    prc = precision_score(y_test, y_predict, average='binary')\n",
    "\n",
    "    return f1, prc, rec"
   ]
  },
  {
   "cell_type": "markdown",
   "metadata": {},
   "source": [
    "Для построения матрицы ошибок возьмем последнюю обученную модель"
   ]
  },
  {
   "cell_type": "code",
   "execution_count": 30,
   "metadata": {},
   "outputs": [
    {
     "name": "stdout",
     "output_type": "stream",
     "text": [
      "Model: \"sequential_15\"\n",
      "_________________________________________________________________\n",
      "Layer (type)                 Output Shape              Param #   \n",
      "=================================================================\n",
      "dense_57 (Dense)             (None, 128)               100480    \n",
      "_________________________________________________________________\n",
      "dense_58 (Dense)             (None, 76)                9804      \n",
      "_________________________________________________________________\n",
      "dense_59 (Dense)             (None, 69)                5313      \n",
      "_________________________________________________________________\n",
      "dense_60 (Dense)             (None, 61)                4270      \n",
      "_________________________________________________________________\n",
      "dense_61 (Dense)             (None, 10)                620       \n",
      "=================================================================\n",
      "Total params: 120,487\n",
      "Trainable params: 120,487\n",
      "Non-trainable params: 0\n",
      "_________________________________________________________________\n"
     ]
    }
   ],
   "source": [
    "modeli.summary()"
   ]
  },
  {
   "cell_type": "code",
   "execution_count": 31,
   "metadata": {},
   "outputs": [],
   "source": [
    "y_pred = modeli.predict(test_images)\n",
    "y_pred_class = np.argmax(y_pred, axis = 1)"
   ]
  },
  {
   "cell_type": "code",
   "execution_count": 32,
   "metadata": {},
   "outputs": [
    {
     "data": {
      "text/plain": [
       "array([[[8830,  170],\n",
       "        [ 182,  818]],\n",
       "\n",
       "       [[8995,    5],\n",
       "        [  33,  967]],\n",
       "\n",
       "       [[8800,  200],\n",
       "        [ 204,  796]],\n",
       "\n",
       "       [[8846,  154],\n",
       "        [  92,  908]],\n",
       "\n",
       "       [[8779,  221],\n",
       "        [ 165,  835]],\n",
       "\n",
       "       [[8972,   28],\n",
       "        [  76,  924]],\n",
       "\n",
       "       [[8757,  243],\n",
       "        [ 326,  674]],\n",
       "\n",
       "       [[8940,   60],\n",
       "        [  72,  928]],\n",
       "\n",
       "       [[8951,   49],\n",
       "        [  27,  973]],\n",
       "\n",
       "       [[8920,   80],\n",
       "        [  33,  967]]], dtype=int64)"
      ]
     },
     "execution_count": 32,
     "metadata": {},
     "output_type": "execute_result"
    }
   ],
   "source": [
    "multilabel_confusion_matrix(test_labels, y_pred_class)"
   ]
  },
  {
   "cell_type": "code",
   "execution_count": 33,
   "metadata": {},
   "outputs": [
    {
     "data": {
      "text/plain": [
       "(array([0.82793522, 0.99485597, 0.79919679, 0.85499058, 0.7907197 ,\n",
       "        0.97058824, 0.73500545, 0.93927126, 0.95205479, 0.92359121]),\n",
       " array([0.818, 0.967, 0.796, 0.908, 0.835, 0.924, 0.674, 0.928, 0.973,\n",
       "        0.967]),\n",
       " array([0.82293763, 0.98073022, 0.79759519, 0.88069835, 0.81225681,\n",
       "        0.94672131, 0.70318206, 0.93360161, 0.96241345, 0.94479726]))"
      ]
     },
     "execution_count": 33,
     "metadata": {},
     "output_type": "execute_result"
    }
   ],
   "source": [
    "scores = score(test_labels, y_pred_class)[:-1]\n",
    "scores"
   ]
  },
  {
   "cell_type": "code",
   "execution_count": 34,
   "metadata": {},
   "outputs": [
    {
     "data": {
      "text/html": [
       "<div>\n",
       "<style scoped>\n",
       "    .dataframe tbody tr th:only-of-type {\n",
       "        vertical-align: middle;\n",
       "    }\n",
       "\n",
       "    .dataframe tbody tr th {\n",
       "        vertical-align: top;\n",
       "    }\n",
       "\n",
       "    .dataframe thead th {\n",
       "        text-align: right;\n",
       "    }\n",
       "</style>\n",
       "<table border=\"1\" class=\"dataframe\">\n",
       "  <thead>\n",
       "    <tr style=\"text-align: right;\">\n",
       "      <th></th>\n",
       "      <th>0</th>\n",
       "      <th>1</th>\n",
       "      <th>2</th>\n",
       "      <th>3</th>\n",
       "      <th>4</th>\n",
       "      <th>5</th>\n",
       "      <th>6</th>\n",
       "      <th>7</th>\n",
       "      <th>8</th>\n",
       "      <th>9</th>\n",
       "    </tr>\n",
       "  </thead>\n",
       "  <tbody>\n",
       "    <tr>\n",
       "      <th>precision</th>\n",
       "      <td>0.827935</td>\n",
       "      <td>0.994856</td>\n",
       "      <td>0.799197</td>\n",
       "      <td>0.854991</td>\n",
       "      <td>0.790720</td>\n",
       "      <td>0.970588</td>\n",
       "      <td>0.735005</td>\n",
       "      <td>0.939271</td>\n",
       "      <td>0.952055</td>\n",
       "      <td>0.923591</td>\n",
       "    </tr>\n",
       "    <tr>\n",
       "      <th>recall</th>\n",
       "      <td>0.818000</td>\n",
       "      <td>0.967000</td>\n",
       "      <td>0.796000</td>\n",
       "      <td>0.908000</td>\n",
       "      <td>0.835000</td>\n",
       "      <td>0.924000</td>\n",
       "      <td>0.674000</td>\n",
       "      <td>0.928000</td>\n",
       "      <td>0.973000</td>\n",
       "      <td>0.967000</td>\n",
       "    </tr>\n",
       "    <tr>\n",
       "      <th>fscore</th>\n",
       "      <td>0.822938</td>\n",
       "      <td>0.980730</td>\n",
       "      <td>0.797595</td>\n",
       "      <td>0.880698</td>\n",
       "      <td>0.812257</td>\n",
       "      <td>0.946721</td>\n",
       "      <td>0.703182</td>\n",
       "      <td>0.933602</td>\n",
       "      <td>0.962413</td>\n",
       "      <td>0.944797</td>\n",
       "    </tr>\n",
       "  </tbody>\n",
       "</table>\n",
       "</div>"
      ],
      "text/plain": [
       "                  0         1         2         3         4         5  \\\n",
       "precision  0.827935  0.994856  0.799197  0.854991  0.790720  0.970588   \n",
       "recall     0.818000  0.967000  0.796000  0.908000  0.835000  0.924000   \n",
       "fscore     0.822938  0.980730  0.797595  0.880698  0.812257  0.946721   \n",
       "\n",
       "                  6         7         8         9  \n",
       "precision  0.735005  0.939271  0.952055  0.923591  \n",
       "recall     0.674000  0.928000  0.973000  0.967000  \n",
       "fscore     0.703182  0.933602  0.962413  0.944797  "
      ]
     },
     "execution_count": 34,
     "metadata": {},
     "output_type": "execute_result"
    }
   ],
   "source": [
    "pd.DataFrame(scores, index = ['precision', 'recall', 'fscore'],)"
   ]
  },
  {
   "cell_type": "markdown",
   "metadata": {},
   "source": [
    "Хуже всех распознаются классы 0, 2 и 6"
   ]
  },
  {
   "cell_type": "code",
   "execution_count": 35,
   "metadata": {},
   "outputs": [
    {
     "data": {
      "text/plain": [
       "array([9, 2, 1, 1, 6, 1, 4, 6, 5, 7, 4, 5, 7, 3, 4, 1, 2, 4, 8, 0],\n",
       "      dtype=uint8)"
      ]
     },
     "execution_count": 35,
     "metadata": {},
     "output_type": "execute_result"
    }
   ],
   "source": [
    "test_labels[:20]"
   ]
  },
  {
   "cell_type": "code",
   "execution_count": 36,
   "metadata": {},
   "outputs": [
    {
     "data": {
      "image/png": "[encoded data removed]",
      "text/plain": [
       "<Figure size 432x288 with 1 Axes>"
      ]
     },
     "metadata": {
      "needs_background": "light"
     },
     "output_type": "display_data"
    }
   ],
   "source": [
    "# class 0\n",
    "plt.imshow(test_imagesi[19,:,:])\n",
    "plt.show()"
   ]
  },
  {
   "cell_type": "code",
   "execution_count": 37,
   "metadata": {},
   "outputs": [
    {
     "data": {
      "image/png": "[encoded data removed]",
      "text/plain": [
       "<Figure size 432x288 with 1 Axes>"
      ]
     },
     "metadata": {
      "needs_background": "light"
     },
     "output_type": "display_data"
    }
   ],
   "source": [
    "# class 2\n",
    "plt.imshow(test_imagesi[1,:,:])\n",
    "plt.show()"
   ]
  },
  {
   "cell_type": "code",
   "execution_count": 38,
   "metadata": {},
   "outputs": [
    {
     "data": {
      "image/png": "[encoded data removed]",
      "text/plain": [
       "<Figure size 432x288 with 1 Axes>"
      ]
     },
     "metadata": {
      "needs_background": "light"
     },
     "output_type": "display_data"
    }
   ],
   "source": [
    "# class 6\n",
    "plt.imshow(test_imagesi[4,:,:])\n",
    "plt.show()"
   ]
  },
  {
   "cell_type": "markdown",
   "metadata": {},
   "source": [
    "Они слишком похожи между собой"
   ]
  },
  {
   "cell_type": "code",
   "execution_count": null,
   "metadata": {},
   "outputs": [],
   "source": []
  }
 ],
 "metadata": {
  "kernelspec": {
   "display_name": "Python 3",
   "language": "python",
   "name": "python3"
  },
  "language_info": {
   "codemirror_mode": {
    "name": "ipython",
    "version": 3
   },
   "file_extension": ".py",
   "mimetype": "text/x-python",
   "name": "python",
   "nbconvert_exporter": "python",
   "pygments_lexer": "ipython3",
   "version": "3.7.9"
  }
 },
 "nbformat": 4,
 "nbformat_minor": 4
}
