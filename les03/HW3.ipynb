{
 "cells": [
  {
   "cell_type": "code",
   "execution_count": 1,
   "metadata": {},
   "outputs": [],
   "source": [
    "import tensorflow as tf"
   ]
  },
  {
   "cell_type": "code",
   "execution_count": 2,
   "metadata": {},
   "outputs": [],
   "source": [
    "from tensorflow.keras.models import Sequential\n",
    "from tensorflow.keras.layers import Dense\n",
    "from tensorflow.keras.utils import to_categorical\n",
    "from tensorflow.keras.optimizers import RMSprop, SGD, Adam, Nadam"
   ]
  },
  {
   "cell_type": "code",
   "execution_count": 3,
   "metadata": {},
   "outputs": [
    {
     "name": "stdout",
     "output_type": "stream",
     "text": [
      "2.4.1\n"
     ]
    }
   ],
   "source": [
    "from __future__ import absolute_import, division, print_function, unicode_literals\n",
    "\n",
    "# TensorFlow and tf.keras\n",
    "\n",
    "from tensorflow import keras\n",
    "\n",
    "# Helper libraries\n",
    "import numpy as np\n",
    "import pandas as pd\n",
    "import matplotlib.pyplot as plt\n",
    "import itertools\n",
    "from tqdm.notebook import tqdm\n",
    "\n",
    "print(tf.__version__)"
   ]
  },
  {
   "cell_type": "code",
   "execution_count": 4,
   "metadata": {},
   "outputs": [],
   "source": [
    "# A = tf.constant([[3, 2], \n",
    "#                  [5, 2]])\n",
    "# B = tf.constant([[9, 5], \n",
    "#                  [1, 3]])"
   ]
  },
  {
   "cell_type": "code",
   "execution_count": 5,
   "metadata": {},
   "outputs": [],
   "source": [
    "# tf.multiply(A, B) # поэлементно!"
   ]
  },
  {
   "cell_type": "code",
   "execution_count": 6,
   "metadata": {},
   "outputs": [],
   "source": [
    "# tf.matmul(A, B) # матричное умножение"
   ]
  },
  {
   "cell_type": "markdown",
   "metadata": {},
   "source": [
    "#### import dataset"
   ]
  },
  {
   "cell_type": "code",
   "execution_count": 7,
   "metadata": {},
   "outputs": [],
   "source": [
    "boston_dataset = tf.keras.datasets.boston_housing\n",
    "\n",
    "(train_data, train_targets), (test_data, test_targets) = boston_dataset.load_data(test_split = 0.2, seed = 42)"
   ]
  },
  {
   "cell_type": "code",
   "execution_count": 8,
   "metadata": {},
   "outputs": [
    {
     "name": "stdout",
     "output_type": "stream",
     "text": [
      "Training data : (404, 13)\n",
      "Test data : (102, 13)\n",
      "Training sample : [9.1780e-02 0.0000e+00 4.0500e+00 0.0000e+00 5.1000e-01 6.4160e+00\n",
      " 8.4100e+01 2.6463e+00 5.0000e+00 2.9600e+02 1.6600e+01 3.9550e+02\n",
      " 9.0400e+00]\n",
      "Training target sample : 23.6\n"
     ]
    }
   ],
   "source": [
    "print(f'Training data : {train_data.shape}')\n",
    "print(f'Test data : {test_data.shape}')\n",
    "print(f'Training sample : {train_data[0]}')\n",
    "print(f'Training target sample : {train_targets[0]}')"
   ]
  },
  {
   "cell_type": "code",
   "execution_count": 9,
   "metadata": {},
   "outputs": [],
   "source": [
    "# feature normalization\n",
    "mean = train_data.mean(axis=0)\n",
    "train_data -= mean\n",
    "std = train_data.std(axis=0)\n",
    "train_data /= std\n",
    "\n",
    "test_data -= mean\n",
    "test_data /= std"
   ]
  },
  {
   "cell_type": "markdown",
   "metadata": {},
   "source": [
    "### model"
   ]
  },
  {
   "cell_type": "code",
   "execution_count": 10,
   "metadata": {},
   "outputs": [],
   "source": [
    "def create_model(layers, neurons, activator, optimizer, loss, metric):\n",
    "    model = Sequential()\n",
    "    model.add(Dense(neurons, activation = activator, input_shape=(train_data.shape[1],)))\n",
    "    for k in range(layers - 2):\n",
    "        model.add(Dense(neurons * (10-k) * 0.06, activation = activator, input_shape=(784,)))\n",
    "    model.add(Dense(1))\n",
    "\n",
    "    model.compile(optimizer = optimizer,\n",
    "              loss = loss,\n",
    "              metrics = [metric])\n",
    "    return model"
   ]
  },
  {
   "cell_type": "code",
   "execution_count": 11,
   "metadata": {},
   "outputs": [],
   "source": [
    "def get_score(layers, neurons, activator, optimizer, loss, metric):\n",
    "    train_scores, test_scores = [], []\n",
    "    for i in range(15):\n",
    "        model = create_model(layers, neurons, activator, optimizer, loss, metric)\n",
    "        model.fit(train_data,\n",
    "                      train_targets,\n",
    "                      epochs=100,\n",
    "                      batch_size=100,\n",
    "                      verbose=0)\n",
    "        train_mse, train_mae = model.evaluate(train_data, train_targets, verbose=0)\n",
    "        test_mse, test_mae = model.evaluate(test_data, test_targets, verbose=0)\n",
    "        train_scores.append(train_mae)\n",
    "        test_scores.append(test_mae)\n",
    "    test_score = np.mean(test_scores)\n",
    "    train_score = np.mean(train_scores)\n",
    "    return train_score, test_score"
   ]
  },
  {
   "cell_type": "code",
   "execution_count": 12,
   "metadata": {},
   "outputs": [
    {
     "data": {
      "text/plain": [
       "(2.3133161703745526, 2.7035226662953695)"
      ]
     },
     "execution_count": 12,
     "metadata": {},
     "output_type": "execute_result"
    }
   ],
   "source": [
    "get_score(3, 64, 'relu', 'rmsprop', 'mse', 'mae')"
   ]
  },
  {
   "cell_type": "markdown",
   "metadata": {},
   "source": [
    "### model params"
   ]
  },
  {
   "cell_type": "markdown",
   "metadata": {},
   "source": [
    "#### neurons"
   ]
  },
  {
   "cell_type": "code",
   "execution_count": 13,
   "metadata": {},
   "outputs": [
    {
     "name": "stdout",
     "output_type": "stream",
     "text": [
      "Wall time: 1min 18s\n"
     ]
    }
   ],
   "source": [
    "%%time\n",
    "res_n = {}\n",
    "for n_num in [16, 32, 64, 128, 256, 512]:\n",
    "    train_score, test_score = get_score(3, n_num, 'relu', 'rmsprop', 'mse', 'mae')\n",
    "    res_n['3_' + str(n_num) + '_relu' + '_rmsprop'] = [train_score, test_score]"
   ]
  },
  {
   "cell_type": "code",
   "execution_count": 14,
   "metadata": {},
   "outputs": [
    {
     "data": {
      "text/html": [
       "<div>\n",
       "<style scoped>\n",
       "    .dataframe tbody tr th:only-of-type {\n",
       "        vertical-align: middle;\n",
       "    }\n",
       "\n",
       "    .dataframe tbody tr th {\n",
       "        vertical-align: top;\n",
       "    }\n",
       "\n",
       "    .dataframe thead th {\n",
       "        text-align: right;\n",
       "    }\n",
       "</style>\n",
       "<table border=\"1\" class=\"dataframe\">\n",
       "  <thead>\n",
       "    <tr style=\"text-align: right;\">\n",
       "      <th></th>\n",
       "      <th>mae_train</th>\n",
       "      <th>mae_test</th>\n",
       "    </tr>\n",
       "  </thead>\n",
       "  <tbody>\n",
       "    <tr>\n",
       "      <th>3_16_relu_rmsprop</th>\n",
       "      <td>4.178839</td>\n",
       "      <td>4.258955</td>\n",
       "    </tr>\n",
       "    <tr>\n",
       "      <th>3_32_relu_rmsprop</th>\n",
       "      <td>2.826152</td>\n",
       "      <td>3.114621</td>\n",
       "    </tr>\n",
       "    <tr>\n",
       "      <th>3_64_relu_rmsprop</th>\n",
       "      <td>2.299430</td>\n",
       "      <td>2.740141</td>\n",
       "    </tr>\n",
       "    <tr>\n",
       "      <th>3_128_relu_rmsprop</th>\n",
       "      <td>2.137596</td>\n",
       "      <td>2.646230</td>\n",
       "    </tr>\n",
       "    <tr>\n",
       "      <th>3_256_relu_rmsprop</th>\n",
       "      <td>2.314604</td>\n",
       "      <td>2.869233</td>\n",
       "    </tr>\n",
       "    <tr>\n",
       "      <th>3_512_relu_rmsprop</th>\n",
       "      <td>2.141694</td>\n",
       "      <td>2.837103</td>\n",
       "    </tr>\n",
       "  </tbody>\n",
       "</table>\n",
       "</div>"
      ],
      "text/plain": [
       "                    mae_train  mae_test\n",
       "3_16_relu_rmsprop    4.178839  4.258955\n",
       "3_32_relu_rmsprop    2.826152  3.114621\n",
       "3_64_relu_rmsprop    2.299430  2.740141\n",
       "3_128_relu_rmsprop   2.137596  2.646230\n",
       "3_256_relu_rmsprop   2.314604  2.869233\n",
       "3_512_relu_rmsprop   2.141694  2.837103"
      ]
     },
     "execution_count": 14,
     "metadata": {},
     "output_type": "execute_result"
    }
   ],
   "source": [
    "pd.DataFrame.from_dict(res_n, orient='index', columns = ['mae_train', 'mae_test'])"
   ]
  },
  {
   "cell_type": "markdown",
   "metadata": {},
   "source": [
    "С увеличением количества нейронов MAE сначала снижается, но после 128 нейронов начинает расти. В некоторых случаях после 128 нейронов MAE на трейне продолжает снижаться, но на тесте растет (проверено несколькими перезапусками). Также с увеличением количества нейронов разрыв между метрикой на трейне и тесте увеличивается"
   ]
  },
  {
   "cell_type": "markdown",
   "metadata": {},
   "source": [
    "#### layers"
   ]
  },
  {
   "cell_type": "code",
   "execution_count": 15,
   "metadata": {},
   "outputs": [
    {
     "name": "stdout",
     "output_type": "stream",
     "text": [
      "Wall time: 57.6 s\n"
     ]
    }
   ],
   "source": [
    "%%time\n",
    "res_l = {}\n",
    "for l in [2, 3, 5, 10]:\n",
    "    train_score, test_score = get_score(l, 128, 'relu', 'rmsprop', 'mse', 'mae')\n",
    "    res_l[str(l) + '_128' + '_relu' + '_rmsprop'] = [train_score, test_score]"
   ]
  },
  {
   "cell_type": "code",
   "execution_count": 16,
   "metadata": {},
   "outputs": [
    {
     "data": {
      "text/html": [
       "<div>\n",
       "<style scoped>\n",
       "    .dataframe tbody tr th:only-of-type {\n",
       "        vertical-align: middle;\n",
       "    }\n",
       "\n",
       "    .dataframe tbody tr th {\n",
       "        vertical-align: top;\n",
       "    }\n",
       "\n",
       "    .dataframe thead th {\n",
       "        text-align: right;\n",
       "    }\n",
       "</style>\n",
       "<table border=\"1\" class=\"dataframe\">\n",
       "  <thead>\n",
       "    <tr style=\"text-align: right;\">\n",
       "      <th></th>\n",
       "      <th>mae_train</th>\n",
       "      <th>mae_test</th>\n",
       "    </tr>\n",
       "  </thead>\n",
       "  <tbody>\n",
       "    <tr>\n",
       "      <th>2_128_relu_rmsprop</th>\n",
       "      <td>3.058808</td>\n",
       "      <td>3.440689</td>\n",
       "    </tr>\n",
       "    <tr>\n",
       "      <th>3_128_relu_rmsprop</th>\n",
       "      <td>2.144337</td>\n",
       "      <td>2.632035</td>\n",
       "    </tr>\n",
       "    <tr>\n",
       "      <th>5_128_relu_rmsprop</th>\n",
       "      <td>2.217191</td>\n",
       "      <td>2.807581</td>\n",
       "    </tr>\n",
       "    <tr>\n",
       "      <th>10_128_relu_rmsprop</th>\n",
       "      <td>2.735339</td>\n",
       "      <td>3.328983</td>\n",
       "    </tr>\n",
       "  </tbody>\n",
       "</table>\n",
       "</div>"
      ],
      "text/plain": [
       "                     mae_train  mae_test\n",
       "2_128_relu_rmsprop    3.058808  3.440689\n",
       "3_128_relu_rmsprop    2.144337  2.632035\n",
       "5_128_relu_rmsprop    2.217191  2.807581\n",
       "10_128_relu_rmsprop   2.735339  3.328983"
      ]
     },
     "execution_count": 16,
     "metadata": {},
     "output_type": "execute_result"
    }
   ],
   "source": [
    "pd.DataFrame.from_dict(res_l, orient='index', columns = ['mae_train', 'mae_test'])"
   ]
  },
  {
   "cell_type": "markdown",
   "metadata": {},
   "source": [
    "Уменьшение (впрочем, как и увеличение) количества слоев приводит к росту ошибки. Оставляем 3 слоя и 128 нейронов"
   ]
  },
  {
   "cell_type": "markdown",
   "metadata": {},
   "source": [
    "#### activation"
   ]
  },
  {
   "cell_type": "code",
   "execution_count": 17,
   "metadata": {},
   "outputs": [
    {
     "name": "stdout",
     "output_type": "stream",
     "text": [
      "Wall time: 35.8 s\n"
     ]
    }
   ],
   "source": [
    "%%time\n",
    "res_a = {}\n",
    "for f in ['relu', 'elu', 'exponential']:\n",
    "    train_score, test_score = get_score(3, 128, f, 'rmsprop', 'mse', 'mae')\n",
    "    res_a['3' + '_128_' + str(f) + '_rmsprop'] = [train_score, test_score]"
   ]
  },
  {
   "cell_type": "code",
   "execution_count": 18,
   "metadata": {},
   "outputs": [
    {
     "data": {
      "text/html": [
       "<div>\n",
       "<style scoped>\n",
       "    .dataframe tbody tr th:only-of-type {\n",
       "        vertical-align: middle;\n",
       "    }\n",
       "\n",
       "    .dataframe tbody tr th {\n",
       "        vertical-align: top;\n",
       "    }\n",
       "\n",
       "    .dataframe thead th {\n",
       "        text-align: right;\n",
       "    }\n",
       "</style>\n",
       "<table border=\"1\" class=\"dataframe\">\n",
       "  <thead>\n",
       "    <tr style=\"text-align: right;\">\n",
       "      <th></th>\n",
       "      <th>mae_train</th>\n",
       "      <th>mae_test</th>\n",
       "    </tr>\n",
       "  </thead>\n",
       "  <tbody>\n",
       "    <tr>\n",
       "      <th>3_128_relu_rmsprop</th>\n",
       "      <td>2.179984</td>\n",
       "      <td>2.662947</td>\n",
       "    </tr>\n",
       "    <tr>\n",
       "      <th>3_128_elu_rmsprop</th>\n",
       "      <td>2.615568</td>\n",
       "      <td>2.867502</td>\n",
       "    </tr>\n",
       "    <tr>\n",
       "      <th>3_128_exponential_rmsprop</th>\n",
       "      <td>2.928225</td>\n",
       "      <td>3.316731</td>\n",
       "    </tr>\n",
       "  </tbody>\n",
       "</table>\n",
       "</div>"
      ],
      "text/plain": [
       "                           mae_train  mae_test\n",
       "3_128_relu_rmsprop          2.179984  2.662947\n",
       "3_128_elu_rmsprop           2.615568  2.867502\n",
       "3_128_exponential_rmsprop   2.928225  3.316731"
      ]
     },
     "execution_count": 18,
     "metadata": {},
     "output_type": "execute_result"
    }
   ],
   "source": [
    "pd.DataFrame.from_dict(res_a, orient='index', columns = ['mae_train', 'mae_test'])"
   ]
  },
  {
   "cell_type": "markdown",
   "metadata": {},
   "source": [
    "С функцией активации RELU ошибка меньше"
   ]
  },
  {
   "cell_type": "markdown",
   "metadata": {},
   "source": [
    "#### optimizer"
   ]
  },
  {
   "cell_type": "code",
   "execution_count": 19,
   "metadata": {},
   "outputs": [
    {
     "name": "stdout",
     "output_type": "stream",
     "text": [
      "Wall time: 37.4 s\n"
     ]
    }
   ],
   "source": [
    "%%time\n",
    "res_o = {}\n",
    "for opt in ['rmsprop', 'adam', 'nadam']:\n",
    "    train_score, test_score = get_score(3, 128, 'relu', opt, 'mse', 'mae')\n",
    "    res_o['3' + '_128' + '_relu_' + opt] = [train_score, test_score]"
   ]
  },
  {
   "cell_type": "code",
   "execution_count": 20,
   "metadata": {},
   "outputs": [
    {
     "data": {
      "text/html": [
       "<div>\n",
       "<style scoped>\n",
       "    .dataframe tbody tr th:only-of-type {\n",
       "        vertical-align: middle;\n",
       "    }\n",
       "\n",
       "    .dataframe tbody tr th {\n",
       "        vertical-align: top;\n",
       "    }\n",
       "\n",
       "    .dataframe thead th {\n",
       "        text-align: right;\n",
       "    }\n",
       "</style>\n",
       "<table border=\"1\" class=\"dataframe\">\n",
       "  <thead>\n",
       "    <tr style=\"text-align: right;\">\n",
       "      <th></th>\n",
       "      <th>mae_train</th>\n",
       "      <th>mae_test</th>\n",
       "    </tr>\n",
       "  </thead>\n",
       "  <tbody>\n",
       "    <tr>\n",
       "      <th>3_128_relu_rmsprop</th>\n",
       "      <td>2.157922</td>\n",
       "      <td>2.635941</td>\n",
       "    </tr>\n",
       "    <tr>\n",
       "      <th>3_128_relu_adam</th>\n",
       "      <td>2.310746</td>\n",
       "      <td>2.746766</td>\n",
       "    </tr>\n",
       "    <tr>\n",
       "      <th>3_128_relu_nadam</th>\n",
       "      <td>2.304336</td>\n",
       "      <td>2.770820</td>\n",
       "    </tr>\n",
       "  </tbody>\n",
       "</table>\n",
       "</div>"
      ],
      "text/plain": [
       "                    mae_train  mae_test\n",
       "3_128_relu_rmsprop   2.157922  2.635941\n",
       "3_128_relu_adam      2.310746  2.746766\n",
       "3_128_relu_nadam     2.304336  2.770820"
      ]
     },
     "execution_count": 20,
     "metadata": {},
     "output_type": "execute_result"
    }
   ],
   "source": [
    "pd.DataFrame.from_dict(res_o, orient='index', columns = ['mae_train', 'mae_test'])"
   ]
  },
  {
   "cell_type": "markdown",
   "metadata": {},
   "source": [
    "При нескольких перезапусках лучшие результаты получаем c оптимизатором RMSprop. В итоге лучшей оказалась модель 3/128/relu/rmsprop"
   ]
  },
  {
   "cell_type": "code",
   "execution_count": 21,
   "metadata": {},
   "outputs": [
    {
     "name": "stdout",
     "output_type": "stream",
     "text": [
      "Wall time: 55.5 s\n"
     ]
    }
   ],
   "source": [
    "%%time\n",
    "res_o = {}\n",
    "for opt in ['rmsprop', 'adam', 'nadam']:\n",
    "    train_score, test_score = get_score(5, 256, 'relu', opt, 'mse', 'mae')\n",
    "    res_o['5' + '_256' + '_relu_' + opt] = [train_score, test_score]"
   ]
  },
  {
   "cell_type": "code",
   "execution_count": 22,
   "metadata": {},
   "outputs": [
    {
     "data": {
      "text/html": [
       "<div>\n",
       "<style scoped>\n",
       "    .dataframe tbody tr th:only-of-type {\n",
       "        vertical-align: middle;\n",
       "    }\n",
       "\n",
       "    .dataframe tbody tr th {\n",
       "        vertical-align: top;\n",
       "    }\n",
       "\n",
       "    .dataframe thead th {\n",
       "        text-align: right;\n",
       "    }\n",
       "</style>\n",
       "<table border=\"1\" class=\"dataframe\">\n",
       "  <thead>\n",
       "    <tr style=\"text-align: right;\">\n",
       "      <th></th>\n",
       "      <th>mae_train</th>\n",
       "      <th>mae_test</th>\n",
       "    </tr>\n",
       "  </thead>\n",
       "  <tbody>\n",
       "    <tr>\n",
       "      <th>5_256_relu_rmsprop</th>\n",
       "      <td>2.693233</td>\n",
       "      <td>3.273790</td>\n",
       "    </tr>\n",
       "    <tr>\n",
       "      <th>5_256_relu_adam</th>\n",
       "      <td>1.746313</td>\n",
       "      <td>2.495076</td>\n",
       "    </tr>\n",
       "    <tr>\n",
       "      <th>5_256_relu_nadam</th>\n",
       "      <td>1.845550</td>\n",
       "      <td>2.600522</td>\n",
       "    </tr>\n",
       "  </tbody>\n",
       "</table>\n",
       "</div>"
      ],
      "text/plain": [
       "                    mae_train  mae_test\n",
       "5_256_relu_rmsprop   2.693233  3.273790\n",
       "5_256_relu_adam      1.746313  2.495076\n",
       "5_256_relu_nadam     1.845550  2.600522"
      ]
     },
     "execution_count": 22,
     "metadata": {},
     "output_type": "execute_result"
    }
   ],
   "source": [
    "pd.DataFrame.from_dict(res_o, orient='index', columns = ['mae_train', 'mae_test'])"
   ]
  },
  {
   "cell_type": "markdown",
   "metadata": {},
   "source": [
    "Очень интересным оказался факт, что при изменении числа нейронов и слоев на значения, при которых ранее стабильно получали более низкий результат, мы получили меньшую ошибку как на трейне, так и на тесте."
   ]
  },
  {
   "cell_type": "markdown",
   "metadata": {},
   "source": [
    "#### gridsearch"
   ]
  },
  {
   "cell_type": "code",
   "execution_count": 23,
   "metadata": {},
   "outputs": [],
   "source": [
    "# params = {\n",
    "#     'neurons_num' : [16, 32, 64, 128, 256, 512],\n",
    "#     'layers' : [2, 3, 5, 10],\n",
    "#     'activator' : ['relu', 'elu', 'exponential'],\n",
    "#     'optimizer' : ['rmsprop', 'adam', 'nadam'],\n",
    "# }"
   ]
  },
  {
   "cell_type": "code",
   "execution_count": 24,
   "metadata": {},
   "outputs": [],
   "source": [
    "params = {\n",
    "    'neurons_num' : [64, 128, 256],\n",
    "    'layers' : [3, 5],\n",
    "    'activator' : ['relu', 'elu'],\n",
    "    'optimizer' : ['rmsprop', 'adam'],\n",
    "}"
   ]
  },
  {
   "cell_type": "code",
   "execution_count": 25,
   "metadata": {},
   "outputs": [
    {
     "data": {
      "application/vnd.jupyter.widget-view+json": {
       "model_id": "d07189486e164a9aa9a66e038d4976a9",
       "version_major": 2,
       "version_minor": 0
      },
      "text/plain": [
       "HBox(children=(HTML(value=''), FloatProgress(value=0.0, max=24.0), HTML(value='')))"
      ]
     },
     "metadata": {},
     "output_type": "display_data"
    },
    {
     "name": "stdout",
     "output_type": "stream",
     "text": [
      "\n",
      "Wall time: 5min 39s\n"
     ]
    }
   ],
   "source": [
    "%%time\n",
    "res_gridsearch = {}\n",
    "with tqdm(total=len(list(itertools.product(params['neurons_num'], params['layers'], params['activator'], params['optimizer'])))) as pbar:\n",
    "    for n, l, f, opt in itertools.product(params['neurons_num'], params['layers'], params['activator'], params['optimizer']):\n",
    "        train_score, test_score = get_score(l, n, f, opt, 'mse', 'mae')\n",
    "        res_gridsearch[str(n) + '_' + str(l) + '_' + str(f) + '_' + str(opt)] = [train_score, test_score]\n",
    "        pbar.update(1)"
   ]
  },
  {
   "cell_type": "code",
   "execution_count": 26,
   "metadata": {},
   "outputs": [
    {
     "data": {
      "text/html": [
       "<div>\n",
       "<style scoped>\n",
       "    .dataframe tbody tr th:only-of-type {\n",
       "        vertical-align: middle;\n",
       "    }\n",
       "\n",
       "    .dataframe tbody tr th {\n",
       "        vertical-align: top;\n",
       "    }\n",
       "\n",
       "    .dataframe thead th {\n",
       "        text-align: right;\n",
       "    }\n",
       "</style>\n",
       "<table border=\"1\" class=\"dataframe\">\n",
       "  <thead>\n",
       "    <tr style=\"text-align: right;\">\n",
       "      <th></th>\n",
       "      <th>mae_train</th>\n",
       "      <th>mae_test</th>\n",
       "    </tr>\n",
       "  </thead>\n",
       "  <tbody>\n",
       "    <tr>\n",
       "      <th>256_5_relu_adam</th>\n",
       "      <td>1.728091</td>\n",
       "      <td>2.507011</td>\n",
       "    </tr>\n",
       "    <tr>\n",
       "      <th>128_5_relu_adam</th>\n",
       "      <td>1.969093</td>\n",
       "      <td>2.608755</td>\n",
       "    </tr>\n",
       "    <tr>\n",
       "      <th>256_5_elu_adam</th>\n",
       "      <td>2.192612</td>\n",
       "      <td>2.634629</td>\n",
       "    </tr>\n",
       "    <tr>\n",
       "      <th>64_5_elu_adam</th>\n",
       "      <td>2.399467</td>\n",
       "      <td>2.635143</td>\n",
       "    </tr>\n",
       "    <tr>\n",
       "      <th>128_5_elu_adam</th>\n",
       "      <td>2.176619</td>\n",
       "      <td>2.636891</td>\n",
       "    </tr>\n",
       "  </tbody>\n",
       "</table>\n",
       "</div>"
      ],
      "text/plain": [
       "                 mae_train  mae_test\n",
       "256_5_relu_adam   1.728091  2.507011\n",
       "128_5_relu_adam   1.969093  2.608755\n",
       "256_5_elu_adam    2.192612  2.634629\n",
       "64_5_elu_adam     2.399467  2.635143\n",
       "128_5_elu_adam    2.176619  2.636891"
      ]
     },
     "execution_count": 26,
     "metadata": {},
     "output_type": "execute_result"
    }
   ],
   "source": [
    "pd.DataFrame.from_dict(res_gridsearch, orient='index', columns = ['mae_train', 'mae_test']).sort_values(by = 'mae_test').head(5)"
   ]
  },
  {
   "cell_type": "markdown",
   "metadata": {},
   "source": [
    "И мы получили результат, совершенно отличный от того, к которому пришли, последовательно подбирая параметры. 3/128/relu/adam даже отсутствует в топ-5"
   ]
  },
  {
   "cell_type": "markdown",
   "metadata": {},
   "source": [
    "#### loss function / metric"
   ]
  },
  {
   "cell_type": "code",
   "execution_count": 27,
   "metadata": {},
   "outputs": [
    {
     "data": {
      "application/vnd.jupyter.widget-view+json": {
       "model_id": "cf5f48060b234daf98a48192342e694c",
       "version_major": 2,
       "version_minor": 0
      },
      "text/plain": [
       "HBox(children=(HTML(value=''), FloatProgress(value=0.0, max=24.0), HTML(value='')))"
      ]
     },
     "metadata": {},
     "output_type": "display_data"
    },
    {
     "name": "stdout",
     "output_type": "stream",
     "text": [
      "\n",
      "Wall time: 5min 39s\n"
     ]
    }
   ],
   "source": [
    "%%time\n",
    "res_gridsearch_l = {}\n",
    "with tqdm(total=len(list(itertools.product(params['neurons_num'], params['layers'], params['activator'], params['optimizer'])))) as pbar:\n",
    "    for n, l, f, opt in itertools.product(params['neurons_num'], params['layers'], params['activator'], params['optimizer']):\n",
    "        train_score, test_score = get_score(l, n, f, opt, 'log_cosh', 'mse')\n",
    "        res_gridsearch_l[str(l) + '_' + str(n) + '_' + str(f) + '_' + str(opt)] = [train_score, test_score]\n",
    "        pbar.update(1)"
   ]
  },
  {
   "cell_type": "code",
   "execution_count": 28,
   "metadata": {},
   "outputs": [
    {
     "data": {
      "text/html": [
       "<div>\n",
       "<style scoped>\n",
       "    .dataframe tbody tr th:only-of-type {\n",
       "        vertical-align: middle;\n",
       "    }\n",
       "\n",
       "    .dataframe tbody tr th {\n",
       "        vertical-align: top;\n",
       "    }\n",
       "\n",
       "    .dataframe thead th {\n",
       "        text-align: right;\n",
       "    }\n",
       "</style>\n",
       "<table border=\"1\" class=\"dataframe\">\n",
       "  <thead>\n",
       "    <tr style=\"text-align: right;\">\n",
       "      <th></th>\n",
       "      <th>mse_train</th>\n",
       "      <th>mse_test</th>\n",
       "    </tr>\n",
       "  </thead>\n",
       "  <tbody>\n",
       "    <tr>\n",
       "      <th>5_256_relu_adam</th>\n",
       "      <td>7.582439</td>\n",
       "      <td>12.269112</td>\n",
       "    </tr>\n",
       "    <tr>\n",
       "      <th>5_128_relu_adam</th>\n",
       "      <td>9.211209</td>\n",
       "      <td>14.067571</td>\n",
       "    </tr>\n",
       "    <tr>\n",
       "      <th>5_256_elu_adam</th>\n",
       "      <td>11.217912</td>\n",
       "      <td>14.649683</td>\n",
       "    </tr>\n",
       "    <tr>\n",
       "      <th>5_128_elu_adam</th>\n",
       "      <td>11.978361</td>\n",
       "      <td>15.014632</td>\n",
       "    </tr>\n",
       "    <tr>\n",
       "      <th>3_256_relu_adam</th>\n",
       "      <td>11.038289</td>\n",
       "      <td>16.038416</td>\n",
       "    </tr>\n",
       "  </tbody>\n",
       "</table>\n",
       "</div>"
      ],
      "text/plain": [
       "                 mse_train   mse_test\n",
       "5_256_relu_adam   7.582439  12.269112\n",
       "5_128_relu_adam   9.211209  14.067571\n",
       "5_256_elu_adam   11.217912  14.649683\n",
       "5_128_elu_adam   11.978361  15.014632\n",
       "3_256_relu_adam  11.038289  16.038416"
      ]
     },
     "execution_count": 28,
     "metadata": {},
     "output_type": "execute_result"
    }
   ],
   "source": [
    "pd.DataFrame.from_dict(res_gridsearch_l, orient='index', columns = ['mse_train', 'mse_test']).sort_values(by = 'mse_test').head(5)"
   ]
  },
  {
   "cell_type": "markdown",
   "metadata": {},
   "source": [
    "При смене функции потерь и метрики лидирует тот же набор параметров, что мы получили на предыдущем шаге, а вот остальные немного отличаются"
   ]
  },
  {
   "cell_type": "markdown",
   "metadata": {},
   "source": [
    "### predictions"
   ]
  },
  {
   "cell_type": "code",
   "execution_count": 29,
   "metadata": {},
   "outputs": [],
   "source": [
    "final_model = create_model(5, 256, 'relu', 'adam', 'mse', 'mae')\n",
    "final_model.fit(train_data, train_targets, epochs=100, batch_size=100, verbose=0)\n",
    "\n",
    "y_pred = final_model.predict(test_data)"
   ]
  },
  {
   "cell_type": "code",
   "execution_count": 30,
   "metadata": {},
   "outputs": [
    {
     "data": {
      "text/plain": [
       "array([22.86755 , 29.13674 , 17.357775, 25.066797, 23.238813],\n",
       "      dtype=float32)"
      ]
     },
     "execution_count": 30,
     "metadata": {},
     "output_type": "execute_result"
    }
   ],
   "source": [
    "y_pred.flatten()[:5]"
   ]
  },
  {
   "cell_type": "code",
   "execution_count": 31,
   "metadata": {},
   "outputs": [
    {
     "data": {
      "text/plain": [
       "array([22.4, 28.6, 19.5, 24.8, 24.5])"
      ]
     },
     "execution_count": 31,
     "metadata": {},
     "output_type": "execute_result"
    }
   ],
   "source": [
    "test_targets[:5]"
   ]
  },
  {
   "cell_type": "code",
   "execution_count": 32,
   "metadata": {},
   "outputs": [
    {
     "data": {
      "text/plain": [
       "(0.8571744279034041, 2.3367486374050968)"
      ]
     },
     "execution_count": 32,
     "metadata": {},
     "output_type": "execute_result"
    }
   ],
   "source": [
    "from sklearn.metrics import r2_score, mean_absolute_error\n",
    "r2_score(test_targets, y_pred.flatten()), mean_absolute_error(test_targets, y_pred.flatten())"
   ]
  },
  {
   "cell_type": "markdown",
   "metadata": {},
   "source": [
    "В целом, довольно неплохие результаты"
   ]
  },
  {
   "cell_type": "markdown",
   "metadata": {},
   "source": [
    "Сравним с предсказаниями модели, построенной на последовательно подобранных параметрах"
   ]
  },
  {
   "cell_type": "code",
   "execution_count": 33,
   "metadata": {},
   "outputs": [
    {
     "data": {
      "text/plain": [
       "(0.7859865003779233, 2.6524867113898773)"
      ]
     },
     "execution_count": 33,
     "metadata": {},
     "output_type": "execute_result"
    }
   ],
   "source": [
    "final_model = create_model(3, 128, 'relu', 'rmsprop', 'mse', 'mae')\n",
    "final_model.fit(train_data, train_targets, epochs=100, batch_size=100, verbose=0)\n",
    "\n",
    "y_pred = final_model.predict(test_data)\n",
    "\n",
    "r2_score(test_targets, y_pred.flatten()), mean_absolute_error(test_targets, y_pred.flatten())"
   ]
  },
  {
   "cell_type": "markdown",
   "metadata": {},
   "source": [
    "Результат заметно хуже"
   ]
  }
 ],
 "metadata": {
  "kernelspec": {
   "display_name": "Python 3",
   "language": "python",
   "name": "python3"
  },
  "language_info": {
   "codemirror_mode": {
    "name": "ipython",
    "version": 3
   },
   "file_extension": ".py",
   "mimetype": "text/x-python",
   "name": "python",
   "nbconvert_exporter": "python",
   "pygments_lexer": "ipython3",
   "version": "3.7.9"
  }
 },
 "nbformat": 4,
 "nbformat_minor": 4
}
