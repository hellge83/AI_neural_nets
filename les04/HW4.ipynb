{
 "cells": [
  {
   "cell_type": "code",
   "execution_count": 1,
   "metadata": {},
   "outputs": [],
   "source": [
    "import tensorflow as tf\n",
    "from tensorflow.keras.models import Sequential, Model\n",
    "from tensorflow.keras.layers import Conv2D, Input\n",
    "from tensorflow.keras.layers import GlobalMaxPooling2D, MaxPooling2D, AveragePooling2D, GlobalAveragePooling2D \n",
    "from tensorflow.keras.utils import to_categorical, plot_model \n",
    "from tensorflow.keras.optimizers import RMSprop, SGD, Adam, Nadam\n",
    "from tensorflow import keras\n",
    "from tensorflow.keras.layers import Dense, Flatten, Concatenate\n",
    "from tensorflow.keras.datasets import cifar10\n",
    "from tensorflow.keras.preprocessing.image import ImageDataGenerator\n",
    "\n",
    "# Helper libraries\n",
    "import numpy as np\n",
    "import pandas as pd\n",
    "import matplotlib.pyplot as plt\n",
    "import os"
   ]
  },
  {
   "cell_type": "code",
   "execution_count": 2,
   "metadata": {},
   "outputs": [
    {
     "name": "stdout",
     "output_type": "stream",
     "text": [
      "x_train shape: (50000, 32, 32, 3)\n",
      "50000 тренировочные примеры\n",
      "10000 тестовые примеры\n"
     ]
    }
   ],
   "source": [
    "# установка параметров нейросети\n",
    "batch_size = 32\n",
    "num_classes = 10\n",
    "epochs = 5\n",
    "data_augmentation = False\n",
    "num_predictions = 20\n",
    "save_dir = os.path.join(os.getcwd(), 'saved_models')\n",
    "model_name = 'keras_cifar10_trained_model.h5'\n",
    "\n",
    "# разделение тренировочной и тестовой выборки\n",
    "(x_train, y_train), (x_test, y_test) = cifar10.load_data()\n",
    "print('x_train shape:', x_train.shape)\n",
    "print(x_train.shape[0], 'тренировочные примеры')\n",
    "print(x_test.shape[0], 'тестовые примеры')\n",
    "\n",
    "# преобразование матрицы чисел 0-9 в бинарную матрицу чисел 0-1\n",
    "y_train = keras.utils.to_categorical(y_train, num_classes)\n",
    "y_test = keras.utils.to_categorical(y_test, num_classes)\n",
    "\n",
    "\n",
    "x_train = x_train.astype('float32')\n",
    "x_test = x_test.astype('float32')\n",
    "x_train /= 255\n",
    "x_test /= 255"
   ]
  },
  {
   "cell_type": "code",
   "execution_count": 3,
   "metadata": {},
   "outputs": [],
   "source": [
    "classes = ['самолет', 'автомобиль', 'птица', 'кот', 'олень', 'собака', 'лягушка', 'лошадь', 'корабль', 'грузовик']"
   ]
  },
  {
   "cell_type": "code",
   "execution_count": 4,
   "metadata": {},
   "outputs": [
    {
     "data": {
      "image/png": "[encoded data removed]",
      "text/plain": [
       "<Figure size 432x288 with 1 Axes>"
      ]
     },
     "metadata": {
      "needs_background": "light"
     },
     "output_type": "display_data"
    }
   ],
   "source": [
    "N = 30\n",
    "\n",
    "plt.imshow(x_test[N][:,:,:])\n",
    "plt.title('это : '+classes[np.argmax(y_test[N,:])])\n",
    "plt.show()"
   ]
  },
  {
   "cell_type": "code",
   "execution_count": 5,
   "metadata": {},
   "outputs": [],
   "source": [
    "res = {}"
   ]
  },
  {
   "cell_type": "markdown",
   "metadata": {},
   "source": [
    "### model"
   ]
  },
  {
   "cell_type": "code",
   "execution_count": 6,
   "metadata": {},
   "outputs": [
    {
     "name": "stdout",
     "output_type": "stream",
     "text": [
      "Model: \"model\"\n",
      "_________________________________________________________________\n",
      "Layer (type)                 Output Shape              Param #   \n",
      "=================================================================\n",
      "input_1 (InputLayer)         [(None, 32, 32, 3)]       0         \n",
      "_________________________________________________________________\n",
      "conv2d (Conv2D)              (None, 8, 11, 64)         9472      \n",
      "_________________________________________________________________\n",
      "max_pooling2d (MaxPooling2D) (None, 4, 6, 64)          0         \n",
      "_________________________________________________________________\n",
      "conv2d_1 (Conv2D)            (None, 4, 6, 192)         307392    \n",
      "_________________________________________________________________\n",
      "max_pooling2d_1 (MaxPooling2 (None, 2, 3, 192)         0         \n",
      "_________________________________________________________________\n",
      "conv2d_2 (Conv2D)            (None, 2, 3, 256)         442624    \n",
      "_________________________________________________________________\n",
      "max_pooling2d_2 (MaxPooling2 (None, 1, 2, 256)         0         \n",
      "_________________________________________________________________\n",
      "flatten (Flatten)            (None, 512)               0         \n",
      "_________________________________________________________________\n",
      "dense (Dense)                (None, 84)                43092     \n",
      "_________________________________________________________________\n",
      "dense_1 (Dense)              (None, 10)                850       \n",
      "=================================================================\n",
      "Total params: 803,430\n",
      "Trainable params: 803,430\n",
      "Non-trainable params: 0\n",
      "_________________________________________________________________\n"
     ]
    }
   ],
   "source": [
    "# инициализация  модели\n",
    "input1 = Input(shape=(32, 32, 3))\n",
    "\n",
    "x1 = Conv2D(64, kernel_size=(7, 7), strides=(4, 3), activation='relu',  padding=\"same\")(input1)\n",
    "x2 = MaxPooling2D(pool_size=(3, 3), strides=(2, 2), padding='same')(x1)\n",
    "x3 = Conv2D(192, kernel_size=(5, 5), strides=(1, 1), activation='relu',  padding=\"same\")(x2)\n",
    "x4 = MaxPooling2D(pool_size=(3, 3), strides=(2, 2), padding='same')(x3)\n",
    "# x5 = Conv2D(384, kernel_size=(3, 3), strides=(1, 1), activation='relu', padding=\"same\")(x4)\n",
    "# x6 = Conv2D(384, kernel_size=(3, 3), strides=(1, 1), activation='relu', padding=\"same\")(x5)\n",
    "x7 = Conv2D(256, kernel_size=(3, 3), strides=(1, 1), activation='relu', padding='same')(x4)\n",
    "x8 = MaxPooling2D(pool_size=(2, 2), strides=(1, 1), padding='valid')(x7)\n",
    "# сглаживание CNN выхода чтобы можно было его присоединить к полносвязногому слою\n",
    "x9 = Flatten()(x8)\n",
    "# полносвязный слой\n",
    "x10 = Dense(84, activation='tanh')(x9)\n",
    "# выходной слой с функцией активации softmax\n",
    "out_x = Dense(10, activation='softmax')(x10)\n",
    "\n",
    "model1 = Model(inputs = input1, outputs = out_x)\n",
    "model1.compile(loss=keras.losses.categorical_crossentropy, optimizer='SGD', metrics=[\"accuracy\"])\n",
    "model1.summary()\n",
    "model1.save_weights('model1.h5')"
   ]
  },
  {
   "cell_type": "code",
   "execution_count": 7,
   "metadata": {},
   "outputs": [],
   "source": [
    "def model_fit(model, data_augmentation):\n",
    "    if not data_augmentation:\n",
    "        print('Не используется data augmentation')\n",
    "        model.fit(x_train, y_train,\n",
    "                  batch_size=batch_size,\n",
    "                  epochs=epochs,\n",
    "                  validation_data=(x_test, y_test),\n",
    "                  shuffle=True)\n",
    "    else:\n",
    "        print('Использование data augmentation в реальном времени')\n",
    "        # Препроцессинг и data augmentation в реальном времени:\n",
    "        datagen = ImageDataGenerator(\n",
    "            featurewise_center=False,\n",
    "            samplewise_center=False,\n",
    "            featurewise_std_normalization=False,\n",
    "            samplewise_std_normalization=False,\n",
    "            zca_whitening=False, \n",
    "            zca_epsilon=1e-06, \n",
    "            rotation_range=0, \n",
    "            width_shift_range=0.1,\n",
    "            height_shift_range=0.1,\n",
    "            shear_range=0., \n",
    "            zoom_range=0., \n",
    "            channel_shift_range=0.,\n",
    "            fill_mode='nearest',\n",
    "            cval=0.,\n",
    "            horizontal_flip=True,\n",
    "            vertical_flip=False,\n",
    "            rescale=None,\n",
    "            preprocessing_function=None,\n",
    "            data_format=None,\n",
    "            validation_split=0.0)\n",
    "\n",
    "        # запуск data augmentation через fit\n",
    "        #datagen.fit(x_train)\n",
    "\n",
    "        # запуск data augmentation через fit_generator\n",
    "        model.fit_generator(datagen.flow(x_train, y_train,\n",
    "                                         batch_size=batch_size),\n",
    "                            epochs=epochs,\n",
    "                            validation_data=(x_test, y_test),\n",
    "                            workers=4)"
   ]
  },
  {
   "cell_type": "code",
   "execution_count": 8,
   "metadata": {},
   "outputs": [
    {
     "name": "stdout",
     "output_type": "stream",
     "text": [
      "Не используется data augmentation\n",
      "Epoch 1/5\n",
      "1563/1563 [==============================] - 27s 17ms/step - loss: 2.1006 - accuracy: 0.2301 - val_loss: 1.6681 - val_accuracy: 0.3804\n",
      "Epoch 2/5\n",
      "1563/1563 [==============================] - 27s 17ms/step - loss: 1.5737 - accuracy: 0.4288 - val_loss: 1.4230 - val_accuracy: 0.4750\n",
      "Epoch 3/5\n",
      "1563/1563 [==============================] - 27s 17ms/step - loss: 1.3910 - accuracy: 0.5015 - val_loss: 1.3843 - val_accuracy: 0.4955\n",
      "Epoch 4/5\n",
      "1563/1563 [==============================] - 27s 17ms/step - loss: 1.2849 - accuracy: 0.5408 - val_loss: 1.2590 - val_accuracy: 0.5490\n",
      "Epoch 5/5\n",
      "1563/1563 [==============================] - 28s 18ms/step - loss: 1.1878 - accuracy: 0.5762 - val_loss: 1.2951 - val_accuracy: 0.5335\n"
     ]
    }
   ],
   "source": [
    "model1.load_weights('model1.h5')\n",
    "model_fit(model1, False)"
   ]
  },
  {
   "cell_type": "code",
   "execution_count": 9,
   "metadata": {},
   "outputs": [
    {
     "name": "stdout",
     "output_type": "stream",
     "text": [
      "313/313 [==============================] - 2s 5ms/step - loss: 1.2951 - accuracy: 0.5335\n"
     ]
    },
    {
     "data": {
      "text/html": [
       "<div>\n",
       "<style scoped>\n",
       "    .dataframe tbody tr th:only-of-type {\n",
       "        vertical-align: middle;\n",
       "    }\n",
       "\n",
       "    .dataframe tbody tr th {\n",
       "        vertical-align: top;\n",
       "    }\n",
       "\n",
       "    .dataframe thead th {\n",
       "        text-align: right;\n",
       "    }\n",
       "</style>\n",
       "<table border=\"1\" class=\"dataframe\">\n",
       "  <thead>\n",
       "    <tr style=\"text-align: right;\">\n",
       "      <th></th>\n",
       "      <th>test_score</th>\n",
       "    </tr>\n",
       "  </thead>\n",
       "  <tbody>\n",
       "    <tr>\n",
       "      <th>model1</th>\n",
       "      <td>0.5335</td>\n",
       "    </tr>\n",
       "  </tbody>\n",
       "</table>\n",
       "</div>"
      ],
      "text/plain": [
       "        test_score\n",
       "model1      0.5335"
      ]
     },
     "execution_count": 9,
     "metadata": {},
     "output_type": "execute_result"
    }
   ],
   "source": [
    "# проверка работы обученной модели\n",
    "res['model1'] = model1.evaluate(x_test, y_test, verbose=1)[1]\n",
    "pd.DataFrame.from_dict(res, orient='index', columns = ['test_score'])"
   ]
  },
  {
   "cell_type": "markdown",
   "metadata": {},
   "source": [
    "### model augmentation true"
   ]
  },
  {
   "cell_type": "code",
   "execution_count": 10,
   "metadata": {},
   "outputs": [
    {
     "name": "stdout",
     "output_type": "stream",
     "text": [
      "Использование data augmentation в реальном времени\n",
      "Epoch 1/5\n"
     ]
    },
    {
     "name": "stderr",
     "output_type": "stream",
     "text": [
      "C:\\Users\\snetkova\\AppData\\Roaming\\Python\\Python37\\site-packages\\tensorflow\\python\\keras\\engine\\training.py:1844: UserWarning: `Model.fit_generator` is deprecated and will be removed in a future version. Please use `Model.fit`, which supports generators.\n",
      "  warnings.warn('`Model.fit_generator` is deprecated and '\n"
     ]
    },
    {
     "name": "stdout",
     "output_type": "stream",
     "text": [
      "1563/1563 [==============================] - 34s 21ms/step - loss: 1.9638 - accuracy: 0.2805 - val_loss: 1.6937 - val_accuracy: 0.3965\n",
      "Epoch 2/5\n",
      "1563/1563 [==============================] - 33s 21ms/step - loss: 1.6056 - accuracy: 0.4181 - val_loss: 1.4644 - val_accuracy: 0.4604\n",
      "Epoch 3/5\n",
      "1563/1563 [==============================] - 35s 22ms/step - loss: 1.4638 - accuracy: 0.4711 - val_loss: 1.4412 - val_accuracy: 0.4896\n",
      "Epoch 4/5\n",
      "1563/1563 [==============================] - 34s 22ms/step - loss: 1.3743 - accuracy: 0.5047 - val_loss: 1.2858 - val_accuracy: 0.5315\n",
      "Epoch 5/5\n",
      "1563/1563 [==============================] - 34s 22ms/step - loss: 1.3024 - accuracy: 0.5329 - val_loss: 1.1987 - val_accuracy: 0.5709\n"
     ]
    }
   ],
   "source": [
    "model1.load_weights('model1.h5')\n",
    "model_fit(model1, True)"
   ]
  },
  {
   "cell_type": "code",
   "execution_count": 11,
   "metadata": {},
   "outputs": [
    {
     "name": "stdout",
     "output_type": "stream",
     "text": [
      "313/313 [==============================] - 2s 5ms/step - loss: 1.1987 - accuracy: 0.5709\n"
     ]
    },
    {
     "data": {
      "text/html": [
       "<div>\n",
       "<style scoped>\n",
       "    .dataframe tbody tr th:only-of-type {\n",
       "        vertical-align: middle;\n",
       "    }\n",
       "\n",
       "    .dataframe tbody tr th {\n",
       "        vertical-align: top;\n",
       "    }\n",
       "\n",
       "    .dataframe thead th {\n",
       "        text-align: right;\n",
       "    }\n",
       "</style>\n",
       "<table border=\"1\" class=\"dataframe\">\n",
       "  <thead>\n",
       "    <tr style=\"text-align: right;\">\n",
       "      <th></th>\n",
       "      <th>test_score</th>\n",
       "    </tr>\n",
       "  </thead>\n",
       "  <tbody>\n",
       "    <tr>\n",
       "      <th>model1</th>\n",
       "      <td>0.5335</td>\n",
       "    </tr>\n",
       "    <tr>\n",
       "      <th>model1_aug</th>\n",
       "      <td>0.5709</td>\n",
       "    </tr>\n",
       "  </tbody>\n",
       "</table>\n",
       "</div>"
      ],
      "text/plain": [
       "            test_score\n",
       "model1          0.5335\n",
       "model1_aug      0.5709"
      ]
     },
     "execution_count": 11,
     "metadata": {},
     "output_type": "execute_result"
    }
   ],
   "source": [
    "res['model1_aug'] = model1.evaluate(x_test, y_test, verbose=1)[1]\n",
    "pd.DataFrame.from_dict(res, orient='index', columns = ['test_score'])"
   ]
  },
  {
   "cell_type": "markdown",
   "metadata": {},
   "source": [
    "Результат на тесте получили чуть выше"
   ]
  },
  {
   "cell_type": "markdown",
   "metadata": {},
   "source": [
    "### model add layers"
   ]
  },
  {
   "cell_type": "code",
   "execution_count": 12,
   "metadata": {},
   "outputs": [
    {
     "name": "stdout",
     "output_type": "stream",
     "text": [
      "Model: \"model_1\"\n",
      "_________________________________________________________________\n",
      "Layer (type)                 Output Shape              Param #   \n",
      "=================================================================\n",
      "input_2 (InputLayer)         [(None, 32, 32, 3)]       0         \n",
      "_________________________________________________________________\n",
      "conv2d_3 (Conv2D)            (None, 8, 11, 64)         9472      \n",
      "_________________________________________________________________\n",
      "max_pooling2d_3 (MaxPooling2 (None, 4, 6, 64)          0         \n",
      "_________________________________________________________________\n",
      "conv2d_4 (Conv2D)            (None, 4, 6, 192)         307392    \n",
      "_________________________________________________________________\n",
      "max_pooling2d_4 (MaxPooling2 (None, 2, 3, 192)         0         \n",
      "_________________________________________________________________\n",
      "conv2d_5 (Conv2D)            (None, 2, 3, 384)         663936    \n",
      "_________________________________________________________________\n",
      "conv2d_6 (Conv2D)            (None, 2, 3, 384)         1327488   \n",
      "_________________________________________________________________\n",
      "conv2d_7 (Conv2D)            (None, 2, 3, 256)         884992    \n",
      "_________________________________________________________________\n",
      "max_pooling2d_5 (MaxPooling2 (None, 1, 2, 256)         0         \n",
      "_________________________________________________________________\n",
      "flatten_1 (Flatten)          (None, 512)               0         \n",
      "_________________________________________________________________\n",
      "dense_2 (Dense)              (None, 84)                43092     \n",
      "_________________________________________________________________\n",
      "dense_3 (Dense)              (None, 10)                850       \n",
      "=================================================================\n",
      "Total params: 3,237,222\n",
      "Trainable params: 3,237,222\n",
      "Non-trainable params: 0\n",
      "_________________________________________________________________\n"
     ]
    }
   ],
   "source": [
    "# инициализация  модели\n",
    "input1 = Input(shape=(32, 32, 3))\n",
    "\n",
    "x1 = Conv2D(64, kernel_size=(7, 7), strides=(4, 3), activation='relu',  padding=\"same\")(input1)\n",
    "x2 = MaxPooling2D(pool_size=(3, 3), strides=(2, 2), padding='same')(x1)\n",
    "x3 = Conv2D(192, kernel_size=(5, 5), strides=(1, 1), activation='relu',  padding=\"same\")(x2)\n",
    "x4 = MaxPooling2D(pool_size=(3, 3), strides=(2, 2), padding='same')(x3)\n",
    "x5 = Conv2D(384, kernel_size=(3, 3), strides=(1, 1), activation='relu', padding=\"same\")(x4)\n",
    "x6 = Conv2D(384, kernel_size=(3, 3), strides=(1, 1), activation='relu', padding=\"same\")(x5)\n",
    "x7 = Conv2D(256, kernel_size=(3, 3), strides=(1, 1), activation='relu', padding='same')(x6)\n",
    "x8 = MaxPooling2D(pool_size=(2, 2), strides=(1, 1), padding='valid')(x7)\n",
    "# сглаживание CNN выхода чтобы можно было его присоединить к полносвязногому слою\n",
    "x9 = Flatten()(x8)\n",
    "# полносвязный слой\n",
    "x10 = Dense(84, activation='tanh')(x9)\n",
    "# выходной слой с функцией активации softmax\n",
    "out_x = Dense(10, activation='softmax')(x10)\n",
    "\n",
    "model2 = Model(inputs = input1, outputs = out_x)\n",
    "model2.compile(loss=keras.losses.categorical_crossentropy, optimizer='SGD', metrics=[\"accuracy\"])\n",
    "model2.summary()\n",
    "model2.save_weights('model2.h5')"
   ]
  },
  {
   "cell_type": "code",
   "execution_count": 13,
   "metadata": {},
   "outputs": [
    {
     "name": "stdout",
     "output_type": "stream",
     "text": [
      "Использование data augmentation в реальном времени\n",
      "Epoch 1/5\n"
     ]
    },
    {
     "name": "stderr",
     "output_type": "stream",
     "text": [
      "C:\\Users\\snetkova\\AppData\\Roaming\\Python\\Python37\\site-packages\\tensorflow\\python\\keras\\engine\\training.py:1844: UserWarning: `Model.fit_generator` is deprecated and will be removed in a future version. Please use `Model.fit`, which supports generators.\n",
      "  warnings.warn('`Model.fit_generator` is deprecated and '\n"
     ]
    },
    {
     "name": "stdout",
     "output_type": "stream",
     "text": [
      "1563/1563 [==============================] - 138s 88ms/step - loss: 2.2164 - accuracy: 0.1681 - val_loss: 1.8990 - val_accuracy: 0.2967\n",
      "Epoch 2/5\n",
      "1563/1563 [==============================] - 138s 88ms/step - loss: 1.8053 - accuracy: 0.3373 - val_loss: 1.5241 - val_accuracy: 0.4416\n",
      "Epoch 3/5\n",
      "1563/1563 [==============================] - 140s 89ms/step - loss: 1.5789 - accuracy: 0.4199 - val_loss: 1.4419 - val_accuracy: 0.4676\n",
      "Epoch 4/5\n",
      "1563/1563 [==============================] - 141s 90ms/step - loss: 1.4633 - accuracy: 0.4676 - val_loss: 1.4515 - val_accuracy: 0.4709\n",
      "Epoch 5/5\n",
      "1563/1563 [==============================] - 141s 90ms/step - loss: 1.3815 - accuracy: 0.4960 - val_loss: 1.2475 - val_accuracy: 0.5503\n"
     ]
    }
   ],
   "source": [
    "model2.load_weights('model2.h5')\n",
    "model_fit(model2, True)"
   ]
  },
  {
   "cell_type": "code",
   "execution_count": 14,
   "metadata": {},
   "outputs": [
    {
     "name": "stdout",
     "output_type": "stream",
     "text": [
      "313/313 [==============================] - 3s 10ms/step - loss: 1.2475 - accuracy: 0.5503\n"
     ]
    },
    {
     "data": {
      "text/html": [
       "<div>\n",
       "<style scoped>\n",
       "    .dataframe tbody tr th:only-of-type {\n",
       "        vertical-align: middle;\n",
       "    }\n",
       "\n",
       "    .dataframe tbody tr th {\n",
       "        vertical-align: top;\n",
       "    }\n",
       "\n",
       "    .dataframe thead th {\n",
       "        text-align: right;\n",
       "    }\n",
       "</style>\n",
       "<table border=\"1\" class=\"dataframe\">\n",
       "  <thead>\n",
       "    <tr style=\"text-align: right;\">\n",
       "      <th></th>\n",
       "      <th>test_score</th>\n",
       "    </tr>\n",
       "  </thead>\n",
       "  <tbody>\n",
       "    <tr>\n",
       "      <th>model1</th>\n",
       "      <td>0.5335</td>\n",
       "    </tr>\n",
       "    <tr>\n",
       "      <th>model1_aug</th>\n",
       "      <td>0.5709</td>\n",
       "    </tr>\n",
       "    <tr>\n",
       "      <th>model2_layers</th>\n",
       "      <td>0.5503</td>\n",
       "    </tr>\n",
       "  </tbody>\n",
       "</table>\n",
       "</div>"
      ],
      "text/plain": [
       "               test_score\n",
       "model1             0.5335\n",
       "model1_aug         0.5709\n",
       "model2_layers      0.5503"
      ]
     },
     "execution_count": 14,
     "metadata": {},
     "output_type": "execute_result"
    }
   ],
   "source": [
    "res['model2_layers'] = model2.evaluate(x_test, y_test, verbose=1)[1]\n",
    "pd.DataFrame.from_dict(res, orient='index', columns = ['test_score'])"
   ]
  },
  {
   "cell_type": "markdown",
   "metadata": {},
   "source": [
    "Добавление двух сверточных слоев снизило точность на тесте"
   ]
  },
  {
   "cell_type": "markdown",
   "metadata": {},
   "source": [
    "### model add kernels"
   ]
  },
  {
   "cell_type": "code",
   "execution_count": 15,
   "metadata": {},
   "outputs": [
    {
     "name": "stdout",
     "output_type": "stream",
     "text": [
      "Model: \"model_2\"\n",
      "_________________________________________________________________\n",
      "Layer (type)                 Output Shape              Param #   \n",
      "=================================================================\n",
      "input_3 (InputLayer)         [(None, 32, 32, 3)]       0         \n",
      "_________________________________________________________________\n",
      "conv2d_8 (Conv2D)            (None, 8, 11, 128)        18944     \n",
      "_________________________________________________________________\n",
      "max_pooling2d_6 (MaxPooling2 (None, 4, 6, 128)         0         \n",
      "_________________________________________________________________\n",
      "conv2d_9 (Conv2D)            (None, 4, 6, 384)         1229184   \n",
      "_________________________________________________________________\n",
      "max_pooling2d_7 (MaxPooling2 (None, 2, 3, 384)         0         \n",
      "_________________________________________________________________\n",
      "conv2d_10 (Conv2D)           (None, 2, 3, 512)         1769984   \n",
      "_________________________________________________________________\n",
      "max_pooling2d_8 (MaxPooling2 (None, 1, 2, 512)         0         \n",
      "_________________________________________________________________\n",
      "flatten_2 (Flatten)          (None, 1024)              0         \n",
      "_________________________________________________________________\n",
      "dense_4 (Dense)              (None, 168)               172200    \n",
      "_________________________________________________________________\n",
      "dense_5 (Dense)              (None, 10)                1690      \n",
      "=================================================================\n",
      "Total params: 3,192,002\n",
      "Trainable params: 3,192,002\n",
      "Non-trainable params: 0\n",
      "_________________________________________________________________\n"
     ]
    }
   ],
   "source": [
    "# инициализация  модели\n",
    "input1 = Input(shape=(32, 32, 3))\n",
    "\n",
    "x1 = Conv2D(128, kernel_size=(7, 7), strides=(4, 3), activation='relu',  padding=\"same\")(input1)\n",
    "x2 = MaxPooling2D(pool_size=(3, 3), strides=(2, 2), padding='same')(x1)\n",
    "x3 = Conv2D(384, kernel_size=(5, 5), strides=(1, 1), activation='relu',  padding=\"same\")(x2)\n",
    "x4 = MaxPooling2D(pool_size=(3, 3), strides=(2, 2), padding='same')(x3)\n",
    "# x5 = Conv2D(384, kernel_size=(3, 3), strides=(1, 1), activation='relu', padding=\"same\")(x4)\n",
    "# x6 = Conv2D(384, kernel_size=(3, 3), strides=(1, 1), activation='relu', padding=\"same\")(x5)\n",
    "x7 = Conv2D(512, kernel_size=(3, 3), strides=(1, 1), activation='relu', padding='same')(x4)\n",
    "x8 = MaxPooling2D(pool_size=(2, 2), strides=(1, 1), padding='valid')(x7)\n",
    "# сглаживание CNN выхода чтобы можно было его присоединить к полносвязногому слою\n",
    "x9 = Flatten()(x8)\n",
    "# полносвязный слой\n",
    "x10 = Dense(168, activation='tanh')(x9)\n",
    "# выходной слой с функцией активации softmax\n",
    "out_x = Dense(10, activation='softmax')(x10)\n",
    "\n",
    "model3 = Model(inputs = input1, outputs = out_x)\n",
    "model3.compile(loss=keras.losses.categorical_crossentropy, optimizer='SGD', metrics=[\"accuracy\"])\n",
    "model3.summary()\n",
    "model3.save_weights('model3.h5')"
   ]
  },
  {
   "cell_type": "code",
   "execution_count": 16,
   "metadata": {},
   "outputs": [
    {
     "name": "stdout",
     "output_type": "stream",
     "text": [
      "Использование data augmentation в реальном времени\n",
      "Epoch 1/5\n"
     ]
    },
    {
     "name": "stderr",
     "output_type": "stream",
     "text": [
      "C:\\Users\\snetkova\\AppData\\Roaming\\Python\\Python37\\site-packages\\tensorflow\\python\\keras\\engine\\training.py:1844: UserWarning: `Model.fit_generator` is deprecated and will be removed in a future version. Please use `Model.fit`, which supports generators.\n",
      "  warnings.warn('`Model.fit_generator` is deprecated and '\n"
     ]
    },
    {
     "name": "stdout",
     "output_type": "stream",
     "text": [
      "1563/1563 [==============================] - 180s 115ms/step - loss: 2.1060 - accuracy: 0.2248 - val_loss: 1.6777 - val_accuracy: 0.4008\n",
      "Epoch 2/5\n",
      "1563/1563 [==============================] - 178s 114ms/step - loss: 1.6219 - accuracy: 0.4093 - val_loss: 1.4422 - val_accuracy: 0.4826\n",
      "Epoch 3/5\n",
      "1563/1563 [==============================] - 175s 112ms/step - loss: 1.4538 - accuracy: 0.4743 - val_loss: 1.2949 - val_accuracy: 0.5338\n",
      "Epoch 4/5\n",
      "1563/1563 [==============================] - 175s 112ms/step - loss: 1.3626 - accuracy: 0.5090 - val_loss: 1.2181 - val_accuracy: 0.5643\n",
      "Epoch 5/5\n",
      "1563/1563 [==============================] - 195s 125ms/step - loss: 1.2830 - accuracy: 0.5404 - val_loss: 1.1550 - val_accuracy: 0.5894\n"
     ]
    }
   ],
   "source": [
    "model3.load_weights('model3.h5')\n",
    "model_fit(model3, True)"
   ]
  },
  {
   "cell_type": "code",
   "execution_count": 17,
   "metadata": {},
   "outputs": [
    {
     "name": "stdout",
     "output_type": "stream",
     "text": [
      "313/313 [==============================] - 4s 12ms/step - loss: 1.1550 - accuracy: 0.5894\n"
     ]
    },
    {
     "data": {
      "text/html": [
       "<div>\n",
       "<style scoped>\n",
       "    .dataframe tbody tr th:only-of-type {\n",
       "        vertical-align: middle;\n",
       "    }\n",
       "\n",
       "    .dataframe tbody tr th {\n",
       "        vertical-align: top;\n",
       "    }\n",
       "\n",
       "    .dataframe thead th {\n",
       "        text-align: right;\n",
       "    }\n",
       "</style>\n",
       "<table border=\"1\" class=\"dataframe\">\n",
       "  <thead>\n",
       "    <tr style=\"text-align: right;\">\n",
       "      <th></th>\n",
       "      <th>test_score</th>\n",
       "    </tr>\n",
       "  </thead>\n",
       "  <tbody>\n",
       "    <tr>\n",
       "      <th>model1</th>\n",
       "      <td>0.5335</td>\n",
       "    </tr>\n",
       "    <tr>\n",
       "      <th>model1_aug</th>\n",
       "      <td>0.5709</td>\n",
       "    </tr>\n",
       "    <tr>\n",
       "      <th>model2_layers</th>\n",
       "      <td>0.5503</td>\n",
       "    </tr>\n",
       "    <tr>\n",
       "      <th>model1_kernels</th>\n",
       "      <td>0.5894</td>\n",
       "    </tr>\n",
       "  </tbody>\n",
       "</table>\n",
       "</div>"
      ],
      "text/plain": [
       "                test_score\n",
       "model1              0.5335\n",
       "model1_aug          0.5709\n",
       "model2_layers       0.5503\n",
       "model1_kernels      0.5894"
      ]
     },
     "execution_count": 17,
     "metadata": {},
     "output_type": "execute_result"
    }
   ],
   "source": [
    "res['model1_kernels'] = model3.evaluate(x_test, y_test, verbose=1)[1]\n",
    "pd.DataFrame.from_dict(res, orient='index', columns = ['test_score'])"
   ]
  },
  {
   "cell_type": "markdown",
   "metadata": {},
   "source": [
    "А вот увеличение количества ядер дало небольшой рост метрики"
   ]
  },
  {
   "cell_type": "markdown",
   "metadata": {},
   "source": [
    "### concatenation v1"
   ]
  },
  {
   "cell_type": "code",
   "execution_count": 18,
   "metadata": {},
   "outputs": [],
   "source": [
    "datagen = ImageDataGenerator(\n",
    "            featurewise_center=False,\n",
    "            samplewise_center=False,\n",
    "            featurewise_std_normalization=False,\n",
    "            samplewise_std_normalization=False,\n",
    "            zca_whitening=False, \n",
    "            zca_epsilon=1e-06, \n",
    "            rotation_range=0, \n",
    "            width_shift_range=0.1,\n",
    "            height_shift_range=0.1,\n",
    "            shear_range=0., \n",
    "            zoom_range=0., \n",
    "            channel_shift_range=0.,\n",
    "            fill_mode='nearest',\n",
    "            cval=0.,\n",
    "            horizontal_flip=True,\n",
    "            vertical_flip=False,\n",
    "            rescale=None,\n",
    "            preprocessing_function=None,\n",
    "            data_format=None,\n",
    "            validation_split=0.0)"
   ]
  },
  {
   "cell_type": "code",
   "execution_count": 19,
   "metadata": {},
   "outputs": [
    {
     "name": "stdout",
     "output_type": "stream",
     "text": [
      "Model: \"model_3\"\n",
      "__________________________________________________________________________________________________\n",
      "Layer (type)                    Output Shape         Param #     Connected to                     \n",
      "==================================================================================================\n",
      "input_4 (InputLayer)            [(None, 32, 32, 3)]  0                                            \n",
      "__________________________________________________________________________________________________\n",
      "conv2d_11 (Conv2D)              (None, 8, 11, 128)   18944       input_4[0][0]                    \n",
      "__________________________________________________________________________________________________\n",
      "conv2d_14 (Conv2D)              (None, 8, 11, 128)   18944       input_4[0][0]                    \n",
      "__________________________________________________________________________________________________\n",
      "conv2d_17 (Conv2D)              (None, 8, 11, 128)   18944       input_4[0][0]                    \n",
      "__________________________________________________________________________________________________\n",
      "max_pooling2d_9 (MaxPooling2D)  (None, 4, 6, 128)    0           conv2d_11[0][0]                  \n",
      "__________________________________________________________________________________________________\n",
      "max_pooling2d_12 (MaxPooling2D) (None, 4, 6, 128)    0           conv2d_14[0][0]                  \n",
      "__________________________________________________________________________________________________\n",
      "max_pooling2d_15 (MaxPooling2D) (None, 4, 6, 128)    0           conv2d_17[0][0]                  \n",
      "__________________________________________________________________________________________________\n",
      "conv2d_12 (Conv2D)              (None, 4, 6, 384)    1229184     max_pooling2d_9[0][0]            \n",
      "__________________________________________________________________________________________________\n",
      "conv2d_15 (Conv2D)              (None, 4, 6, 384)    1229184     max_pooling2d_12[0][0]           \n",
      "__________________________________________________________________________________________________\n",
      "conv2d_18 (Conv2D)              (None, 4, 6, 384)    1229184     max_pooling2d_15[0][0]           \n",
      "__________________________________________________________________________________________________\n",
      "max_pooling2d_10 (MaxPooling2D) (None, 2, 3, 384)    0           conv2d_12[0][0]                  \n",
      "__________________________________________________________________________________________________\n",
      "max_pooling2d_13 (MaxPooling2D) (None, 2, 3, 384)    0           conv2d_15[0][0]                  \n",
      "__________________________________________________________________________________________________\n",
      "max_pooling2d_16 (MaxPooling2D) (None, 2, 3, 384)    0           conv2d_18[0][0]                  \n",
      "__________________________________________________________________________________________________\n",
      "conv2d_13 (Conv2D)              (None, 2, 3, 512)    1769984     max_pooling2d_10[0][0]           \n",
      "__________________________________________________________________________________________________\n",
      "conv2d_16 (Conv2D)              (None, 2, 3, 512)    1769984     max_pooling2d_13[0][0]           \n",
      "__________________________________________________________________________________________________\n",
      "conv2d_19 (Conv2D)              (None, 2, 3, 512)    1769984     max_pooling2d_16[0][0]           \n",
      "__________________________________________________________________________________________________\n",
      "max_pooling2d_11 (MaxPooling2D) (None, 1, 2, 512)    0           conv2d_13[0][0]                  \n",
      "__________________________________________________________________________________________________\n",
      "max_pooling2d_14 (MaxPooling2D) (None, 1, 2, 512)    0           conv2d_16[0][0]                  \n",
      "__________________________________________________________________________________________________\n",
      "max_pooling2d_17 (MaxPooling2D) (None, 1, 2, 512)    0           conv2d_19[0][0]                  \n",
      "__________________________________________________________________________________________________\n",
      "flatten_3 (Flatten)             (None, 1024)         0           max_pooling2d_11[0][0]           \n",
      "__________________________________________________________________________________________________\n",
      "flatten_4 (Flatten)             (None, 1024)         0           max_pooling2d_14[0][0]           \n",
      "__________________________________________________________________________________________________\n",
      "flatten_5 (Flatten)             (None, 1024)         0           max_pooling2d_17[0][0]           \n",
      "__________________________________________________________________________________________________\n",
      "dense_6 (Dense)                 (None, 168)          172200      flatten_3[0][0]                  \n",
      "__________________________________________________________________________________________________\n",
      "dense_7 (Dense)                 (None, 168)          172200      flatten_4[0][0]                  \n",
      "__________________________________________________________________________________________________\n",
      "dense_8 (Dense)                 (None, 168)          172200      flatten_5[0][0]                  \n",
      "__________________________________________________________________________________________________\n",
      "concatenate (Concatenate)       (None, 504)          0           dense_6[0][0]                    \n",
      "                                                                 dense_7[0][0]                    \n",
      "                                                                 dense_8[0][0]                    \n",
      "__________________________________________________________________________________________________\n",
      "dense_9 (Dense)                 (None, 10)           5050        concatenate[0][0]                \n",
      "==================================================================================================\n",
      "Total params: 9,575,986\n",
      "Trainable params: 9,575,986\n",
      "Non-trainable params: 0\n",
      "__________________________________________________________________________________________________\n"
     ]
    }
   ],
   "source": [
    "main_input = Input(shape=(32, 32, 3))\n",
    "x11 = Conv2D(128, kernel_size=(7, 7), strides=(4, 3), activation='relu',  padding=\"same\")(main_input)\n",
    "x12 = MaxPooling2D(pool_size=(3, 3), strides=(2, 2), padding='same')(x11)\n",
    "x13 = Conv2D(384, kernel_size=(5, 5), strides=(1, 1), activation='relu',  padding=\"same\")(x12)\n",
    "x14 = MaxPooling2D(pool_size=(3, 3), strides=(2, 2), padding='same')(x13)\n",
    "x15 = Conv2D(512, kernel_size=(3, 3), strides=(1, 1), activation='relu', padding='same')(x14)\n",
    "x16 = MaxPooling2D(pool_size=(2, 2), strides=(1, 1), padding='valid')(x15)\n",
    "# сглаживание CNN выхода чтобы можно было его присоединить к полносвязногому слою\n",
    "x17 = Flatten()(x16)\n",
    "# полносвязный слой\n",
    "first_dense = Dense(168, activation='tanh')(x17)\n",
    "\n",
    "# second_input = Input(shape=(32, 32, 3))\n",
    "x21 = Conv2D(128, kernel_size=(7, 7), strides=(4, 3), activation='relu',  padding=\"same\")(main_input)\n",
    "x22 = MaxPooling2D(pool_size=(3, 3), strides=(2, 2), padding='same')(x21)\n",
    "x23 = Conv2D(384, kernel_size=(5, 5), strides=(1, 1), activation='relu',  padding=\"same\")(x22)\n",
    "x24 = MaxPooling2D(pool_size=(3, 3), strides=(2, 2), padding='same')(x23)\n",
    "x25 = Conv2D(512, kernel_size=(3, 3), strides=(1, 1), activation='relu', padding='same')(x24)\n",
    "x26 = MaxPooling2D(pool_size=(2, 2), strides=(1, 1), padding='valid')(x25)\n",
    "# сглаживание CNN выхода чтобы можно было его присоединить к полносвязногому слою\n",
    "x27 = Flatten()(x26)\n",
    "# полносвязный слой\n",
    "second_dense = Dense(168, activation='tanh')(x27)\n",
    "\n",
    "\n",
    "# third_input = Input(shape=(32, 32, 3))\n",
    "x31 = Conv2D(128, kernel_size=(7, 7), strides=(4, 3), activation='relu',  padding=\"same\")(main_input)\n",
    "x32 = MaxPooling2D(pool_size=(3, 3), strides=(2, 2), padding='same')(x31)\n",
    "x33 = Conv2D(384, kernel_size=(5, 5), strides=(1, 1), activation='relu',  padding=\"same\")(x32)\n",
    "x34 = MaxPooling2D(pool_size=(3, 3), strides=(2, 2), padding='same')(x33)\n",
    "x35 = Conv2D(512, kernel_size=(3, 3), strides=(1, 1), activation='relu', padding='same')(x34)\n",
    "x36 = MaxPooling2D(pool_size=(2, 2), strides=(1, 1), padding='valid')(x35)\n",
    "# сглаживание CNN выхода чтобы можно было его присоединить к полносвязногому слою\n",
    "x37 = Flatten()(x36)\n",
    "# полносвязный слой\n",
    "third_dense = Dense(168, activation='tanh')(x37)\n",
    "\n",
    "# merge = Concatenate(axis = 1)([x16, x26, x36])\n",
    "merge = Concatenate(axis = 1)([first_dense, second_dense, third_dense])\n",
    "\n",
    "# merge = Flatten()(merge)\n",
    "# merge = Dense(168, activation='tanh')(merge)\n",
    "merge = Dense(10, activation='softmax')(merge)\n",
    "\n",
    "model4 = Model(inputs=main_input, outputs = merge)\n",
    "model4.compile(loss=keras.losses.categorical_crossentropy, optimizer='SGD', metrics=[\"accuracy\"])\n",
    "model4.summary()\n",
    "model4.save_weights('model4.h5')"
   ]
  },
  {
   "cell_type": "code",
   "execution_count": 20,
   "metadata": {},
   "outputs": [
    {
     "data": {
      "image/png": "[encoded data removed]",
      "text/plain": [
       "<IPython.core.display.Image object>"
      ]
     },
     "execution_count": 20,
     "metadata": {},
     "output_type": "execute_result"
    }
   ],
   "source": [
    "plot_model(model4)"
   ]
  },
  {
   "cell_type": "code",
   "execution_count": 21,
   "metadata": {},
   "outputs": [
    {
     "name": "stderr",
     "output_type": "stream",
     "text": [
      "C:\\Users\\snetkova\\AppData\\Roaming\\Python\\Python37\\site-packages\\tensorflow\\python\\keras\\engine\\training.py:1844: UserWarning: `Model.fit_generator` is deprecated and will be removed in a future version. Please use `Model.fit`, which supports generators.\n",
      "  warnings.warn('`Model.fit_generator` is deprecated and '\n"
     ]
    },
    {
     "name": "stdout",
     "output_type": "stream",
     "text": [
      "Epoch 1/5\n",
      "1563/1563 [==============================] - 596s 381ms/step - loss: 2.1443 - accuracy: 0.2194 - val_loss: 1.7104 - val_accuracy: 0.3834\n",
      "Epoch 2/5\n",
      "1563/1563 [==============================] - 560s 358ms/step - loss: 1.7297 - accuracy: 0.3749 - val_loss: 1.5201 - val_accuracy: 0.4568\n",
      "Epoch 3/5\n",
      "1563/1563 [==============================] - 558s 357ms/step - loss: 1.5441 - accuracy: 0.4390 - val_loss: 1.4742 - val_accuracy: 0.4638\n",
      "Epoch 4/5\n",
      "1563/1563 [==============================] - 557s 356ms/step - loss: 1.4402 - accuracy: 0.4817 - val_loss: 1.3183 - val_accuracy: 0.5260\n",
      "Epoch 5/5\n",
      "1563/1563 [==============================] - 557s 356ms/step - loss: 1.3713 - accuracy: 0.5072 - val_loss: 1.2457 - val_accuracy: 0.5480\n",
      "Wall time: 47min 7s\n"
     ]
    },
    {
     "data": {
      "text/plain": [
       "<tensorflow.python.keras.callbacks.History at 0x1c71ae81848>"
      ]
     },
     "execution_count": 21,
     "metadata": {},
     "output_type": "execute_result"
    }
   ],
   "source": [
    "%%time\n",
    "model4.load_weights('model4.h5')\n",
    "# model4.fit(x_train, y_train,\n",
    "#                   batch_size=batch_size,\n",
    "#                   epochs=epochs,\n",
    "#                   validation_data=(x_test, y_test),\n",
    "#                   shuffle=True)\n",
    "model4.fit_generator(datagen.flow(x_train, y_train, batch_size=batch_size), epochs=epochs, validation_data=(x_test, y_test), workers=4)"
   ]
  },
  {
   "cell_type": "code",
   "execution_count": 22,
   "metadata": {},
   "outputs": [
    {
     "name": "stdout",
     "output_type": "stream",
     "text": [
      "313/313 [==============================] - 10s 33ms/step - loss: 1.2457 - accuracy: 0.5480\n"
     ]
    },
    {
     "data": {
      "text/html": [
       "<div>\n",
       "<style scoped>\n",
       "    .dataframe tbody tr th:only-of-type {\n",
       "        vertical-align: middle;\n",
       "    }\n",
       "\n",
       "    .dataframe tbody tr th {\n",
       "        vertical-align: top;\n",
       "    }\n",
       "\n",
       "    .dataframe thead th {\n",
       "        text-align: right;\n",
       "    }\n",
       "</style>\n",
       "<table border=\"1\" class=\"dataframe\">\n",
       "  <thead>\n",
       "    <tr style=\"text-align: right;\">\n",
       "      <th></th>\n",
       "      <th>test_score</th>\n",
       "    </tr>\n",
       "  </thead>\n",
       "  <tbody>\n",
       "    <tr>\n",
       "      <th>model1</th>\n",
       "      <td>0.5335</td>\n",
       "    </tr>\n",
       "    <tr>\n",
       "      <th>model1_aug</th>\n",
       "      <td>0.5709</td>\n",
       "    </tr>\n",
       "    <tr>\n",
       "      <th>model2_layers</th>\n",
       "      <td>0.5503</td>\n",
       "    </tr>\n",
       "    <tr>\n",
       "      <th>model1_kernels</th>\n",
       "      <td>0.5894</td>\n",
       "    </tr>\n",
       "    <tr>\n",
       "      <th>model1_x3_concat</th>\n",
       "      <td>0.5480</td>\n",
       "    </tr>\n",
       "  </tbody>\n",
       "</table>\n",
       "</div>"
      ],
      "text/plain": [
       "                  test_score\n",
       "model1                0.5335\n",
       "model1_aug            0.5709\n",
       "model2_layers         0.5503\n",
       "model1_kernels        0.5894\n",
       "model1_x3_concat      0.5480"
      ]
     },
     "execution_count": 22,
     "metadata": {},
     "output_type": "execute_result"
    }
   ],
   "source": [
    "res['model1_x3_concat'] = model4.evaluate(x_test, y_test, verbose=1)[1]\n",
    "pd.DataFrame.from_dict(res, orient='index', columns = ['test_score'])"
   ]
  },
  {
   "cell_type": "markdown",
   "metadata": {},
   "source": [
    "Сильно потеряли в точности"
   ]
  },
  {
   "cell_type": "markdown",
   "metadata": {},
   "source": [
    "### concatenation v2"
   ]
  },
  {
   "cell_type": "code",
   "execution_count": 23,
   "metadata": {},
   "outputs": [
    {
     "name": "stdout",
     "output_type": "stream",
     "text": [
      "Model: \"model_4\"\n",
      "__________________________________________________________________________________________________\n",
      "Layer (type)                    Output Shape         Param #     Connected to                     \n",
      "==================================================================================================\n",
      "input_5 (InputLayer)            [(None, 32, 32, 3)]  0                                            \n",
      "__________________________________________________________________________________________________\n",
      "conv2d_20 (Conv2D)              (None, 8, 11, 128)   18944       input_5[0][0]                    \n",
      "__________________________________________________________________________________________________\n",
      "conv2d_22 (Conv2D)              (None, 8, 11, 128)   18944       input_5[0][0]                    \n",
      "__________________________________________________________________________________________________\n",
      "conv2d_24 (Conv2D)              (None, 8, 11, 128)   18944       input_5[0][0]                    \n",
      "__________________________________________________________________________________________________\n",
      "max_pooling2d_18 (MaxPooling2D) (None, 4, 6, 128)    0           conv2d_20[0][0]                  \n",
      "__________________________________________________________________________________________________\n",
      "max_pooling2d_20 (MaxPooling2D) (None, 4, 6, 128)    0           conv2d_22[0][0]                  \n",
      "__________________________________________________________________________________________________\n",
      "max_pooling2d_22 (MaxPooling2D) (None, 4, 6, 128)    0           conv2d_24[0][0]                  \n",
      "__________________________________________________________________________________________________\n",
      "conv2d_21 (Conv2D)              (None, 4, 6, 384)    1229184     max_pooling2d_18[0][0]           \n",
      "__________________________________________________________________________________________________\n",
      "conv2d_23 (Conv2D)              (None, 4, 6, 384)    1229184     max_pooling2d_20[0][0]           \n",
      "__________________________________________________________________________________________________\n",
      "conv2d_25 (Conv2D)              (None, 4, 6, 384)    1229184     max_pooling2d_22[0][0]           \n",
      "__________________________________________________________________________________________________\n",
      "max_pooling2d_19 (MaxPooling2D) (None, 2, 3, 384)    0           conv2d_21[0][0]                  \n",
      "__________________________________________________________________________________________________\n",
      "max_pooling2d_21 (MaxPooling2D) (None, 2, 3, 384)    0           conv2d_23[0][0]                  \n",
      "__________________________________________________________________________________________________\n",
      "max_pooling2d_23 (MaxPooling2D) (None, 2, 3, 384)    0           conv2d_25[0][0]                  \n",
      "__________________________________________________________________________________________________\n",
      "concatenate_1 (Concatenate)     (None, 6, 3, 384)    0           max_pooling2d_19[0][0]           \n",
      "                                                                 max_pooling2d_21[0][0]           \n",
      "                                                                 max_pooling2d_23[0][0]           \n",
      "__________________________________________________________________________________________________\n",
      "conv2d_26 (Conv2D)              (None, 6, 3, 384)    3686784     concatenate_1[0][0]              \n",
      "__________________________________________________________________________________________________\n",
      "conv2d_28 (Conv2D)              (None, 6, 3, 384)    3686784     concatenate_1[0][0]              \n",
      "__________________________________________________________________________________________________\n",
      "conv2d_27 (Conv2D)              (None, 6, 3, 512)    1769984     conv2d_26[0][0]                  \n",
      "__________________________________________________________________________________________________\n",
      "conv2d_29 (Conv2D)              (None, 6, 3, 512)    1769984     conv2d_28[0][0]                  \n",
      "__________________________________________________________________________________________________\n",
      "max_pooling2d_24 (MaxPooling2D) (None, 5, 2, 512)    0           conv2d_27[0][0]                  \n",
      "__________________________________________________________________________________________________\n",
      "max_pooling2d_25 (MaxPooling2D) (None, 5, 2, 512)    0           conv2d_29[0][0]                  \n",
      "__________________________________________________________________________________________________\n",
      "flatten_6 (Flatten)             (None, 5120)         0           max_pooling2d_24[0][0]           \n",
      "__________________________________________________________________________________________________\n",
      "flatten_7 (Flatten)             (None, 5120)         0           max_pooling2d_25[0][0]           \n",
      "__________________________________________________________________________________________________\n",
      "dense_10 (Dense)                (None, 168)          860328      flatten_6[0][0]                  \n",
      "__________________________________________________________________________________________________\n",
      "dense_11 (Dense)                (None, 168)          860328      flatten_7[0][0]                  \n",
      "__________________________________________________________________________________________________\n",
      "concatenate_2 (Concatenate)     (None, 336)          0           dense_10[0][0]                   \n",
      "                                                                 dense_11[0][0]                   \n",
      "__________________________________________________________________________________________________\n",
      "dense_12 (Dense)                (None, 10)           3370        concatenate_2[0][0]              \n",
      "==================================================================================================\n",
      "Total params: 16,381,946\n",
      "Trainable params: 16,381,946\n",
      "Non-trainable params: 0\n",
      "__________________________________________________________________________________________________\n"
     ]
    }
   ],
   "source": [
    "main_input = Input(shape=(32, 32, 3))\n",
    "x11 = Conv2D(128, kernel_size=(7, 7), strides=(4, 3), activation='relu',  padding=\"same\")(main_input)\n",
    "x12 = MaxPooling2D(pool_size=(3, 3), strides=(2, 2), padding='same')(x11)\n",
    "x13 = Conv2D(384, kernel_size=(5, 5), strides=(1, 1), activation='relu',  padding=\"same\")(x12)\n",
    "x14 = MaxPooling2D(pool_size=(3, 3), strides=(2, 2), padding='same')(x13)\n",
    "\n",
    "# second_input = Input(shape=(32, 32, 3))\n",
    "x21 = Conv2D(128, kernel_size=(7, 7), strides=(4, 3), activation='relu',  padding=\"same\")(main_input)\n",
    "x22 = MaxPooling2D(pool_size=(3, 3), strides=(2, 2), padding='same')(x21)\n",
    "x23 = Conv2D(384, kernel_size=(5, 5), strides=(1, 1), activation='relu',  padding=\"same\")(x22)\n",
    "x24 = MaxPooling2D(pool_size=(3, 3), strides=(2, 2), padding='same')(x23)\n",
    "\n",
    "\n",
    "# third_input = Input(shape=(32, 32, 3))\n",
    "x31 = Conv2D(128, kernel_size=(7, 7), strides=(4, 3), activation='relu',  padding=\"same\")(main_input)\n",
    "x32 = MaxPooling2D(pool_size=(3, 3), strides=(2, 2), padding='same')(x31)\n",
    "x33 = Conv2D(384, kernel_size=(5, 5), strides=(1, 1), activation='relu',  padding=\"same\")(x32)\n",
    "x34 = MaxPooling2D(pool_size=(3, 3), strides=(2, 2), padding='same')(x33)\n",
    "\n",
    "first_merge = Concatenate(axis = 1)([x14, x24, x34])\n",
    "\n",
    "x53 = Conv2D(384, kernel_size=(5, 5), strides=(1, 1), activation='relu',  padding=\"same\")(first_merge)\n",
    "x55 = Conv2D(512, kernel_size=(3, 3), strides=(1, 1), activation='relu', padding='same')(x53)\n",
    "x56 = MaxPooling2D(pool_size=(2, 2), strides=(1, 1), padding='valid')(x55)\n",
    "# сглаживание CNN выхода чтобы можно было его присоединить к полносвязногому слою\n",
    "x57 = Flatten()(x56)\n",
    "# полносвязный слой\n",
    "dense31 = Dense(168, activation='tanh')(x57)\n",
    "\n",
    "x43 = Conv2D(384, kernel_size=(5, 5), strides=(1, 1), activation='relu',  padding=\"same\")(first_merge)\n",
    "x45 = Conv2D(512, kernel_size=(3, 3), strides=(1, 1), activation='relu', padding='same')(x43)\n",
    "x46 = MaxPooling2D(pool_size=(2, 2), strides=(1, 1), padding='valid')(x45)\n",
    "# сглаживание CNN выхода чтобы можно было его присоединить к полносвязногому слою\n",
    "x47 = Flatten()(x46)\n",
    "# полносвязный слой\n",
    "dense32 = Dense(168, activation='tanh')(x47)\n",
    "\n",
    "second_merge = Concatenate(axis = 1)([dense31, dense32])\n",
    "merge = Dense(10, activation='softmax')(second_merge)\n",
    "\n",
    "model5 = Model(inputs=main_input, outputs = merge)\n",
    "model5.compile(loss=keras.losses.categorical_crossentropy, optimizer='SGD', metrics=[\"accuracy\"])\n",
    "model5.summary()\n",
    "model5.save_weights('model5.h5')"
   ]
  },
  {
   "cell_type": "code",
   "execution_count": 24,
   "metadata": {},
   "outputs": [
    {
     "data": {
      "image/png": "[encoded data removed]",
      "text/plain": [
       "<IPython.core.display.Image object>"
      ]
     },
     "execution_count": 24,
     "metadata": {},
     "output_type": "execute_result"
    }
   ],
   "source": [
    "plot_model(model5)"
   ]
  },
  {
   "cell_type": "code",
   "execution_count": 25,
   "metadata": {},
   "outputs": [
    {
     "name": "stderr",
     "output_type": "stream",
     "text": [
      "C:\\Users\\snetkova\\AppData\\Roaming\\Python\\Python37\\site-packages\\tensorflow\\python\\keras\\engine\\training.py:1844: UserWarning: `Model.fit_generator` is deprecated and will be removed in a future version. Please use `Model.fit`, which supports generators.\n",
      "  warnings.warn('`Model.fit_generator` is deprecated and '\n"
     ]
    },
    {
     "name": "stdout",
     "output_type": "stream",
     "text": [
      "Epoch 1/5\n",
      "1563/1563 [==============================] - 990s 633ms/step - loss: 2.1381 - accuracy: 0.2133 - val_loss: 1.6902 - val_accuracy: 0.3955\n",
      "Epoch 2/5\n",
      "1563/1563 [==============================] - 1010s 646ms/step - loss: 1.6887 - accuracy: 0.3869 - val_loss: 1.4490 - val_accuracy: 0.4644\n",
      "Epoch 3/5\n",
      "1563/1563 [==============================] - 1010s 646ms/step - loss: 1.5010 - accuracy: 0.4568 - val_loss: 1.3695 - val_accuracy: 0.5002\n",
      "Epoch 4/5\n",
      "1563/1563 [==============================] - 1014s 649ms/step - loss: 1.4032 - accuracy: 0.4925 - val_loss: 1.3216 - val_accuracy: 0.5272\n",
      "Epoch 5/5\n",
      "1563/1563 [==============================] - 1015s 649ms/step - loss: 1.3281 - accuracy: 0.5203 - val_loss: 1.1865 - val_accuracy: 0.5770\n",
      "Wall time: 1h 23min 59s\n"
     ]
    },
    {
     "data": {
      "text/plain": [
       "<tensorflow.python.keras.callbacks.History at 0x1c71b454e48>"
      ]
     },
     "execution_count": 25,
     "metadata": {},
     "output_type": "execute_result"
    }
   ],
   "source": [
    "%%time\n",
    "model5.load_weights('model5.h5')\n",
    "# model5.fit(x_train, y_train,\n",
    "#                   batch_size=batch_size,\n",
    "#                   epochs=epochs,\n",
    "#                   validation_data=(x_test, y_test),\n",
    "#                   shuffle=True)\n",
    "model5.fit_generator(datagen.flow(x_train, y_train, batch_size=batch_size), epochs=epochs, validation_data=(x_test, y_test), workers=4)"
   ]
  },
  {
   "cell_type": "code",
   "execution_count": 26,
   "metadata": {},
   "outputs": [
    {
     "name": "stdout",
     "output_type": "stream",
     "text": [
      "313/313 [==============================] - 21s 67ms/step - loss: 1.1865 - accuracy: 0.5770\n"
     ]
    },
    {
     "data": {
      "text/html": [
       "<div>\n",
       "<style scoped>\n",
       "    .dataframe tbody tr th:only-of-type {\n",
       "        vertical-align: middle;\n",
       "    }\n",
       "\n",
       "    .dataframe tbody tr th {\n",
       "        vertical-align: top;\n",
       "    }\n",
       "\n",
       "    .dataframe thead th {\n",
       "        text-align: right;\n",
       "    }\n",
       "</style>\n",
       "<table border=\"1\" class=\"dataframe\">\n",
       "  <thead>\n",
       "    <tr style=\"text-align: right;\">\n",
       "      <th></th>\n",
       "      <th>test_score</th>\n",
       "    </tr>\n",
       "  </thead>\n",
       "  <tbody>\n",
       "    <tr>\n",
       "      <th>model1</th>\n",
       "      <td>0.5335</td>\n",
       "    </tr>\n",
       "    <tr>\n",
       "      <th>model1_aug</th>\n",
       "      <td>0.5709</td>\n",
       "    </tr>\n",
       "    <tr>\n",
       "      <th>model2_layers</th>\n",
       "      <td>0.5503</td>\n",
       "    </tr>\n",
       "    <tr>\n",
       "      <th>model1_kernels</th>\n",
       "      <td>0.5894</td>\n",
       "    </tr>\n",
       "    <tr>\n",
       "      <th>model1_x3_concat</th>\n",
       "      <td>0.5480</td>\n",
       "    </tr>\n",
       "    <tr>\n",
       "      <th>model1_x3_concat_x2</th>\n",
       "      <td>0.5770</td>\n",
       "    </tr>\n",
       "  </tbody>\n",
       "</table>\n",
       "</div>"
      ],
      "text/plain": [
       "                     test_score\n",
       "model1                   0.5335\n",
       "model1_aug               0.5709\n",
       "model2_layers            0.5503\n",
       "model1_kernels           0.5894\n",
       "model1_x3_concat         0.5480\n",
       "model1_x3_concat_x2      0.5770"
      ]
     },
     "execution_count": 26,
     "metadata": {},
     "output_type": "execute_result"
    }
   ],
   "source": [
    "res['model1_x3_concat_x2'] = model5.evaluate(x_test, y_test, verbose=1)[1]\n",
    "pd.DataFrame.from_dict(res, orient='index', columns = ['test_score'])"
   ]
  },
  {
   "cell_type": "markdown",
   "metadata": {},
   "source": [
    "И даже такая химера оказалась хуже обычной последовательной модели с увеличенным количестовм ядер"
   ]
  },
  {
   "cell_type": "code",
   "execution_count": 27,
   "metadata": {},
   "outputs": [
    {
     "data": {
      "image/png": "[encoded data removed]",
      "text/plain": [
       "<Figure size 432x288 with 1 Axes>"
      ]
     },
     "metadata": {
      "needs_background": "light"
     },
     "output_type": "display_data"
    }
   ],
   "source": [
    "N = 30\n",
    "y_p=model5.predict(x_test[N:N+1][:,:,:])\n",
    "y_t = np.argmax(y_test[N:N+1], axis = 1 )\n",
    "y_i = np.argmax(y_p, axis = 1 )\n",
    "plt.imshow(x_test[N][:,:,:])\n",
    "plt.title('это : '+classes[y_t[0]]+'- опознан как : '+classes[y_i[0]])\n",
    "plt.show()"
   ]
  },
  {
   "cell_type": "code",
   "execution_count": 28,
   "metadata": {},
   "outputs": [],
   "source": [
    "# сохранение модели и весов\n",
    "# if not os.path.isdir(save_dir):\n",
    "#     os.makedirs(save_dir)\n",
    "# model_path = os.path.join(save_dir, model_name)\n",
    "# model.save(model_path)\n",
    "# print('сохранить обученную модель как %s ' % model_path)"
   ]
  },
  {
   "cell_type": "code",
   "execution_count": null,
   "metadata": {},
   "outputs": [],
   "source": []
  }
 ],
 "metadata": {
  "kernelspec": {
   "display_name": "Python 3",
   "language": "python",
   "name": "python3"
  },
  "language_info": {
   "codemirror_mode": {
    "name": "ipython",
    "version": 3
   },
   "file_extension": ".py",
   "mimetype": "text/x-python",
   "name": "python",
   "nbconvert_exporter": "python",
   "pygments_lexer": "ipython3",
   "version": "3.7.9"
  }
 },
 "nbformat": 4,
 "nbformat_minor": 4
}
